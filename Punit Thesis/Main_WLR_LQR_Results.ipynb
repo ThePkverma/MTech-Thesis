{
  "cells": [
    {
      "cell_type": "code",
      "execution_count": 1,
      "metadata": {
        "id": "hftQ-cOyRNyo"
      },
      "outputs": [],
      "source": [
        "from sympy.physics.vector import Point,ReferenceFrame as rf\n",
        "from sympy.physics.mechanics import  inertia, RigidBody, Lagrangian, LagrangesMethod, Particle, angular_momentum\n",
        "from sympy.physics.mechanics import KanesMethod, Dyadic\n",
        "from sympy.physics.vector import dynamicsymbols\n",
        "from sympy import Matrix, symbols, simplify,diff, solve\n",
        "from sympy.physics.vector import init_vprinting\n",
        "init_vprinting(pretty_print=True)\n",
        "import sympy as sp\n",
        "from sympy import lambdify\n",
        "import matplotlib.pyplot as plt\n",
        "from matplotlib.pyplot import *\n",
        "from matplotlib.patches import Rectangle\n",
        "from matplotlib import animation\n",
        "import os\n",
        "import time\n",
        "import control as ct\n",
        "from control import lqr\n",
        "import numpy as np\n",
        "from numpy import linalg as la\n",
        "from numpy import rad2deg, deg2rad\n",
        "from numpy.linalg import inv,pinv\n",
        "import scipy\n",
        "from scipy.integrate import odeint\n",
        "from scipy.optimize import minimize\n",
        "import math as m\n",
        "from scipy.interpolate import CubicSpline\n",
        "from scipy.interpolate import BSpline\n",
        "from itertools import islice\n",
        "from numpy.linalg import inv \n",
        "Mc,lc,Ix,Iy,Iz,Ixz,K,J = symbols('M_c,l_c,I_x,I_y,I_z,I_xz,K,J')\n",
        "q1,q4, ql,qb,phi = dynamicsymbols(' q1 q4 ql q_b phi')\n",
        "qa1, qa2 = dynamicsymbols('qa1,qa2')\n",
        "qr, ql,x,y,z = dynamicsymbols('q_r,q_l,x,y,z')\n",
        "bt = symbols('beta')\n",
        "l12, l13 , l34, l25, l24,l01= symbols(\"l12 l13 l34 l25 l24 l01\")\n",
        "r ,g, d,kt,t = symbols(\"r g d kt t\")\n",
        "la1, la2,lm1,lm2,lm3,lm4 = symbols('la1 la2 lm1 lm2 lm3,lm4')\n",
        "mb, m1,m2,m3,m4,mw, ma1, ma2, mext = symbols('mb m1 m2 m3 m4 mw ma1 ma2 mext')\n",
        "Tl,Tr = symbols('Tl Tr')\n",
        "phi, th = dynamicsymbols('phi,theta')\n",
        "Tw,Tm,Ta1,Ta2 = symbols('Tw,Tm,Ta1,Ta2')\n",
        "xc,yc,phi,x = dynamicsymbols('xc yc phi x')\n",
        "values = {\n",
        "            mw:0.268, m1: 0.127, m2 : 0.105, m3:0.103, mb: 1.512, ma1:0.092526,ma2:0.109,\n",
        "            l01: 0.190, l12: 0.050, l24:0.193, l13: 0.188, l34:0.093, la1:0.20, la2:0.20,\n",
        "            r:0.070, g:9.81, d:0.210, bt: np.deg2rad(46.1),\n",
        "            Mc: 2.919\n",
        "}\n",
        "# vvalues = {kt :1}\n",
        "\n",
        "from eom import eom as eqOfMotion\n",
        "eom = eqOfMotion(kt = 0.85)"
      ]
    },
    {
      "cell_type": "code",
      "execution_count": 2,
      "metadata": {
        "id": "Bx3kPaXYYg9Z"
      },
      "outputs": [],
      "source": [
        "def vectomat(vector,N,s=0):\n",
        "    if s==0:\n",
        "        return simplify( Matrix([vector.dot(N.x), vector.dot(N.y), vector.dot(N.z)]))\n",
        "    else:\n",
        "        return  Matrix([vector.dot(N.x), vector.dot(N.y), vector.dot(N.z)])\n",
        "def rtang(alpha):\n",
        "    if alpha>0:\n",
        "        alpha = alpha\n",
        "    else:\n",
        "        alpha = alpha+np.pi\n",
        "    return alpha   \n",
        "\n",
        "def fourbar(t3):\n",
        "    tm = t3-np.pi+values[bt]\n",
        "    l = values[l13]; h =values[l34]\n",
        "    g = values[l24]; f = values[l12]\n",
        "    ln = np.sqrt(l**2+h**2-2*l*h*m.cos(tm))\n",
        "    alpha = m.acos((g**2+f**2-ln**2)/(2*g*f))\n",
        "    alpha = rtang(alpha)\n",
        "    gamma = m.acos( ( h**2+  ln**2-  l**2)/(2*h*ln) )+\\\n",
        "            m.acos( ( g**2 + ln**2 - f**2)/(2*g*ln) )\n",
        "    \n",
        "    gamma = rtang(gamma)\n",
        "    lembda = 2*np.pi- (gamma + alpha + tm)\n",
        "    #                   q2        q3      q4\n",
        "    return np.array([np.pi-alpha, lembda, t3])\n",
        "def spround(exp,n=3):\n",
        "    exp =exp.expand()\n",
        "    for a in sp.preorder_traversal(exp):\n",
        "        if isinstance(a, sp.Float):\n",
        "            exp = exp.subs(a, round(a, n))\n",
        "    return exp\n",
        "def figsize(i,j):\n",
        "    rcParams['figure.figsize']= (j,i)"
      ]
    },
    {
      "cell_type": "code",
      "execution_count": 3,
      "metadata": {
        "colab": {
          "base_uri": "https://localhost:8080/",
          "height": 39
        },
        "id": "YQWFD7u2czZQ",
        "outputId": "d84c0f3a-50bc-4d50-d6d3-f9f3acc33b5c"
      },
      "outputs": [
        {
          "data": {
            "image/png": "[encoded data removed]",
            "text/latex": [
              "$\\displaystyle q_{2}{\\left(q_{4} \\right)}$"
            ],
            "text/plain": [
              "q₂(q₄)"
            ]
          },
          "execution_count": 3,
          "metadata": {},
          "output_type": "execute_result"
        }
      ],
      "source": [
        "q3 = sp.Function('q3')(q4)\n",
        "q2 = sp.Function('q2')(q4)\n",
        "q2"
      ]
    },
    {
      "cell_type": "code",
      "execution_count": 4,
      "metadata": {
        "id": "VBmPLV5Ie-om"
      },
      "outputs": [],
      "source": [
        "q=Matrix([xc,yc,phi,ql,qr,q1,q4,qa1,qa2])\n",
        "qdot = q.diff()\n",
        "lq = len(q)"
      ]
    },
    {
      "cell_type": "code",
      "execution_count": 5,
      "metadata": {
        "id": "-9MQSJSbetnB"
      },
      "outputs": [],
      "source": [
        "N = rf('N')\n",
        "C = N.orientnew('C','Axis',[phi,N.z])\n",
        "Lw = C.orientnew('Lw','Axis',[ql,-C.y])\n",
        "Rw = C.orientnew('Rw','Axis',[qr,-C.y])\n",
        "L1 = C.orientnew('L1','Axis',[q1,-C.y])\n",
        "L2 = L1.orientnew('L2','Axis',[q2,-L1.y])\n",
        "L3 = L1.orientnew('L3','Axis',[q3,-L1.y])\n",
        "B = L3.orientnew('B','Axis', [q4,-L3.y])\n",
        "L4 = B.orientnew('L4','Axis',[bt,-B.y])\n",
        "A1 = B.orientnew('A1','Axis',[qa1,-B.y])\n",
        "A2 = A1.orientnew('A2','Axis',[qa2,-A1.y])"
      ]
    },
    {
      "cell_type": "code",
      "execution_count": 6,
      "metadata": {
        "id": "jWoeaGX4Y2fN"
      },
      "outputs": [],
      "source": [
        "G = Point('G')\n",
        "G.set_vel(N,0)\n",
        "Cb = G.locatenew('Cb',xc*N.x+yc*N.y+r*N.z)\n",
        "p0 = Cb.locatenew('p0',  d/2*C.y)\n",
        "pc1 = p0.locatenew('pc1',-r*N.z)\n",
        "p1 = p0.locatenew('p1',l01*L1.x)\n",
        "p2 = p1.locatenew('p2',l12*L1.x)\n",
        "p3 = p1.locatenew('p3',l13*L3.x)\n",
        "p34 = p3.locatenew('p34',l34*L4.x)\n",
        "p24 = p2.locatenew('p24',l24*L2.x)\n",
        "\n",
        "p01 = Cb.locatenew('p01',-d/2*C.y)\n",
        "pc2 = p01.locatenew('pc2',-r*N.z)\n",
        "p11 = p01.locatenew('p11',l01*L1.x)\n",
        "p21 = p11.locatenew('p21',l12*L1.x)\n",
        "p31 = p11.locatenew('p31',l13*L3.x)\n",
        "p341 = p31.locatenew('p341',l34*L4.x)\n",
        "p241 = p21.locatenew('p241',l24*L2.x)\n",
        "\n",
        "pb = p3.locatenew('pb',-6.501/1000*B.x+147/1000*B.z-d/2*B.y)\n",
        "pa1 =pb.locatenew('pa1',la1*A1.x)\n",
        "pa2 =pa1.locatenew('pa2',la2*A2.x)\n",
        "\n",
        "rec_cen = pb.locatenew('rec',-0.186/2*B.x\\\n",
        "                       -0.186*B.z\n",
        "                       )"
      ]
    },
    {
      "cell_type": "code",
      "execution_count": 7,
      "metadata": {
        "id": "Q3VlejfSbpij"
      },
      "outputs": [],
      "source": [
        "c1 = p0.locatenew('c1',0.130055*L1.x)\n",
        "c2 = p2.locatenew('c2',0.102766*L2.x)\n",
        "c3 = p1.locatenew('c3',0.097766*L3.x)\n",
        "\n",
        "c11 = p01.locatenew('c1',0.130055*L1.x)\n",
        "c21 = p21.locatenew('c2',0.102766*L2.x)\n",
        "c31 = p11.locatenew('c3',0.097766*L3.x)\n",
        "\n",
        "cb = pb.locatenew('cb',-0.017192*B.x-0.085*B.z)\n",
        "ca1 = pb.locatenew(\"ca1\",0.080669*A1.x)\n",
        "ca2 = pa1.locatenew(\"ca2\",0.103429*A2.x)"
      ]
    },
    {
      "cell_type": "code",
      "execution_count": 8,
      "metadata": {
        "id": "2ukhXH6VbO18"
      },
      "outputs": [],
      "source": [
        "## coordinates \n",
        "qinput = Matrix([xc,yc,phi,q1,q2,q3,q4,qa1,qa2])\n",
        "\n",
        "points = [p0,p1,p2,p24,p3,p34,pb,pa1,pa2,rec_cen]\n",
        "robocord = []\n",
        "for pnt in points:\n",
        "    robocord.append(vectomat(pnt.pos_from(G),N,1).T)\n",
        "\n",
        "robocord= Matrix(robocord).T\n",
        "robocord.row_del(1)\n",
        "robopoints = lambdify(qinput,robocord.subs(values),modules='numpy')\n",
        "\n",
        "cpoints = [c1,c2,c3,cb,ca1,ca2]\n",
        "robocom = []\n",
        "for pnt in cpoints:\n",
        "    robocom.append(vectomat(pnt.pos_from(G),N,1).T)\n",
        "robocom= Matrix(robocom).T\n",
        "robocom.row_del(1)\n",
        "robocpoints = lambdify(qinput,robocom.subs(values),modules='numpy')"
      ]
    },
    {
      "cell_type": "code",
      "execution_count": 9,
      "metadata": {
        "id": "REDBF_Tjbfni"
      },
      "outputs": [],
      "source": [
        "def com():\n",
        "    cn = [c1,c2,c3,cb,ca1,ca2,c11,c21,c31]\n",
        "    mn = [m1,m2,m3,mb,ma1,ma2,m1,m2,m3]\n",
        "    cm = Matrix([[0,0,0]]).T\n",
        "    for i in range(len(cn)):\n",
        "        cm += vectomat(cn[i].pos_from(G),N,1)*mn[i]\n",
        "    return (cm/sum(mn)).subs(values)\n",
        "com_N = lambdify(qinput,com(),modules='numpy')"
      ]
    },
    {
      "cell_type": "code",
      "execution_count": 10,
      "metadata": {},
      "outputs": [],
      "source": [
        "def plotline(q):\n",
        "    fig, ax = plt.subplots()\n",
        "    points = robopoints(*q)\n",
        "    com = com_N(*q)\n",
        "    pnts1 = points[:,:4]\n",
        "    pnts2 = np.hstack((points[:,1:2],points[:,4:5]))\n",
        "    pnts3 = points[:,6:-1]\n",
        "    ax.plot(pnts1[0,:], pnts1[1,:], color='#28b34b', linewidth=4, zorder=2)\n",
        "    ax.plot(pnts2[0,:], pnts2[1,:], color='#28b34b', linewidth=4, zorder=2)\n",
        "    ax.plot(pnts3[0,:], pnts3[1,:], color='#28b34b', linewidth=4, zorder=2)\n",
        "    circle = plt.Circle((pnts1[0,0], pnts1[1,0]), 0.07, facecolor='#4a54a4', edgecolor='k')\n",
        "    squre = Rectangle((points[0,9], points[1,9]), 0.186, 0.186, angle=rad2deg(q[3]+q[5]+q[6]), \n",
        "                      facecolor='#4a54a4', edgecolor='k')\n",
        "    ax.add_patch(squre)\n",
        "    ax.add_artist(circle)\n",
        "    ax.scatter(pnts1[0,:], pnts1[1,:], facecolor='#4a54a4', edgecolor='#28b34b', zorder=3)\n",
        "    ax.scatter(pnts2[0,:], pnts2[1,:], facecolor='#4a54a4', edgecolor='#28b34b', zorder=3)\n",
        "    ax.scatter(pnts3[0,:], pnts3[1,:], facecolor='#4a54a4', edgecolor='#28b34b', zorder=3)\n",
        "    cm = np.round([com[0,0]-q[0], com[2,0]], 3)\n",
        "    ax.plot([-0.3, 0.8], [0, 0], 'k')\n",
        "    ax.text(com[0,0]+0.15, com[2,0], f'COM: {cm[0],cm[1]}')\n",
        "    # ax.set_xlim([-0.3, 0.8])\n",
        "    ax.set_ylim([-0.05, 0.9])\n",
        "    # axis('equal')\n",
        "    ax.set_aspect('equal')\n",
        "    return fig, ax\n",
        "def ccc(q ):\n",
        "    # rcParams['figure.figsize'] = (6,4)\n",
        "    q = q.reshape(-1,)\n",
        "    q = np.insert(q,1,0)\n",
        "    q = np.insert(q,4,fourbar(q[4])[:2])[:9]\n",
        "    # print(q)\n",
        "    cm = com_N(*q)\n",
        "    print(cm.reshape(-1,))\n",
        "    plotline(q)\n",
        "    plot(cm[0],cm[2],'ro')"
      ]
    },
    {
      "cell_type": "code",
      "execution_count": 11,
      "metadata": {
        "id": "SeHydvnL-XKY"
      },
      "outputs": [],
      "source": [
        "qind = Matrix([x,phi,q1,q4,qa1,qa2])\n",
        "qdep = Matrix([q2,q3,diff(q2,q4), diff(q3,q4),diff(q2,q4,2), diff(q3,q4,2)])\n",
        "qn = Matrix.vstack(qind,qind.diff(),qdep )\n",
        "us = Matrix([Tl,Tr,-Tl-Tr,2*Tm,Ta1,Ta2])\n",
        "usfun = sp.lambdify([Tl,Tr,Tm,Ta1,Ta2],us,modules = 'numpy')"
      ]
    },
    {
      "cell_type": "markdown",
      "metadata": {},
      "source": [
        "### <center>    Cubic In Holonomic Constraints  </center>"
      ]
    },
    {
      "cell_type": "code",
      "execution_count": 12,
      "metadata": {
        "id": "s3vQwQxjvgb-"
      },
      "outputs": [],
      "source": [
        "fangs = []\n",
        "for i in np.linspace(3.2,4.2,1000):\n",
        "    fangs.append(fourbar(i))\n",
        "fangs = np.array(fangs)\n",
        "f2 = CubicSpline(fangs[:,2],fangs[:,0])\n",
        "f3 = CubicSpline(fangs[:,2],fangs[:,1])"
      ]
    },
    {
      "cell_type": "code",
      "execution_count": 13,
      "metadata": {},
      "outputs": [
        {
          "data": {
            "image/png": "[encoded data removed]",
            "text/plain": [
              "<Figure size 1500x400 with 3 Axes>"
            ]
          },
          "metadata": {},
          "output_type": "display_data"
        }
      ],
      "source": [
        "%matplotlib inline\n",
        "fig, axs = plt.subplots(1, 3, figsize=(15, 4))\n",
        "\n",
        "# Subplot 1\n",
        "axs[0].plot(fangs[:, 2], f2(fangs[:, 2]), 'r')\n",
        "axs[0].plot(fangs[:, 2], f3(fangs[:, 2]), 'b')\n",
        "axs[0].legend([r'$q_2$', r'$q_3$'])\n",
        "axs[0].set_xlabel(r'$q_4$', fontsize=12)\n",
        "axs[0].tick_params(axis='both', labelsize=12)\n",
        "\n",
        "# Subplot 2\n",
        "axs[1].plot(fangs[:, 2], f2(fangs[:, 2], 1), 'r')\n",
        "axs[1].plot(fangs[:, 2], f3(fangs[:, 2], 1), 'b')\n",
        "axs[1].set_xlabel(r'$q_4$', fontsize=12)\n",
        "axs[1].legend([r\"$q_2'$\", r\"$q_3'$\"])\n",
        "axs[1].tick_params(axis='both', labelsize=12)\n",
        "\n",
        "# Subplot 3\n",
        "axs[2].plot(fangs[:, 2], f2(fangs[:, 2], 2), 'r')\n",
        "axs[2].plot(fangs[:, 2], f3(fangs[:, 2], 2), 'b')\n",
        "axs[2].legend([r\"$q_2''$\", r\"$q_3''$\"])\n",
        "axs[2].set_xlabel(r'$q_4$', fontsize=12)\n",
        "axs[2].tick_params(axis='both', labelsize=12)\n",
        "\n",
        "plt.show()\n"
      ]
    },
    {
      "cell_type": "markdown",
      "metadata": {},
      "source": [
        "### <center> Operating Points</center>\n"
      ]
    },
    {
      "cell_type": "code",
      "execution_count": 14,
      "metadata": {
        "id": "Sxx6pbX-yFQu"
      },
      "outputs": [],
      "source": [
        "def Qconv(q): # 3 9\n",
        "    q = np.array(q)\n",
        "    #   x  phi q1 q4 qa1 qa2\n",
        "    qder  = np.array([ f2(q[3]), f3(q[3]), f2(q[3],1), f3(q[3],1), f2(q[3],2), f3(q[3],2)])\n",
        "    return np.append(q,qder)\n",
        " \n",
        "def operatingPoint(q0,q1):\n",
        "    def Constfun(qu):\n",
        "        q = np.append(qu[:5] , np.zeros((6,)))\n",
        "        q = np.insert(q, 2, [q1])\n",
        "        u = qu[5:]\n",
        "        x = Qconv(q)\n",
        "        # x2 = np.dot(inv(eom.mqn(*x)) , eom.gn(*x) + usfun(*u))\n",
        "        x2 = -eom.gn(*x) + usfun(*u)\n",
        "        return x2.reshape(-1,)\n",
        "\n",
        "    def objfun(qu):\n",
        "        u = qu[5:]\n",
        "        return np.linalg.norm(u)\n",
        "    bounds = [(None,None),(None,None),\n",
        "            #   (0.534,1.0276) ,\n",
        "               (3.55840321, 3.99440321),\n",
        "            #   (None,None),(None,None)\n",
        "              (np.pi/3,np.pi-np.pi/3),(None,None)\n",
        "              ] + [(None,None)]*(5)\n",
        "    const = {'type':'eq','fun': Constfun}\n",
        "    sol = minimize(objfun, q0, bounds = bounds,constraints = const )\n",
        "    opoints = np.insert(sol['x'],2,[q1])\n",
        "    print('const',Constfun(sol['x']))\n",
        "    return opoints,sol\n",
        "                          # x phi q4        qa1        qa2           Tw Tr Tm Ta1 Ta2\n",
        "q0 = np.append( np.array([0, 0,   3.900e+00, 2.338e+00,  5.387e-01]), np.zeros((5,)) )\n",
        "# q0 = np.append( np.array([0, 0,   3.960e+00, 1.50,  0.05]), np.zeros((5,)) )"
      ]
    },
    {
      "cell_type": "code",
      "execution_count": 18,
      "metadata": {
        "colab": {
          "base_uri": "https://localhost:8080/",
          "height": 499
        },
        "id": "U9Z026XC3DEL",
        "outputId": "58d52f97-f640-4f42-dedc-306b6c7772ad"
      },
      "outputs": [
        {
          "name": "stdout",
          "output_type": "stream",
          "text": [
            "const [ 0.00000000e+00  0.00000000e+00 -1.97913907e-11  4.32048585e-11\n",
            " -4.63750674e-13 -5.82913653e-13]\n",
            "Energy 0.0005699839359006478\n",
            "[8.43547454e-13 0.00000000e+00 3.51504913e-01]\n"
          ]
        },
        {
          "data": {
            "text/plain": [
              "array([-2.50128821e-15,  0.00000000e+00,  7.22915376e-01,  3.78003351e+00,\n",
              "        1.54146912e+00, -4.04384971e-04,  0.00000000e+00,  0.00000000e+00,\n",
              "       -5.58120184e-04, -1.15687230e-04,  1.12203887e-07])"
            ]
          },
          "execution_count": 18,
          "metadata": {},
          "output_type": "execute_result"
        }
      ],
      "source": [
        "rcParams['figure.figsize'] = (6,4)\n",
        "qpoint,_ = operatingPoint( q0,q1 = deg2rad(41.42) )\n",
        "print('Energy',_['fun'])\n",
        "ccc(qpoint)\n",
        "qpoint"
      ]
    },
    {
      "cell_type": "markdown",
      "metadata": {},
      "source": [
        "### <center> Linearization</center>\n"
      ]
    },
    {
      "cell_type": "code",
      "execution_count": 19,
      "metadata": {},
      "outputs": [
        {
          "data": {
            "text/plain": [
              "8"
            ]
          },
          "execution_count": 19,
          "metadata": {},
          "output_type": "execute_result"
        }
      ],
      "source": [
        "def fun(x,u):\n",
        "    q  = Qconv(x)\n",
        "    u = usfun(*u)\n",
        "    x2 = x[6:]\n",
        "    f1 = x2\n",
        "    f2 = np.dot( inv(eom.mqn(*q)), (-eom.cqn(*q) + u ) )\n",
        "    return np.append(f1,f2)\n",
        "\n",
        "def Linearize(fun,x0,u0,eps=1e-08):\n",
        "    A = np.zeros((len(x0),len(x0)))\n",
        "    B = np.zeros((len(x0),len(u0)))\n",
        "    \n",
        "    for i in range(len(x0)):\n",
        "        xn = x0.copy()\n",
        "        xn[i] += eps\n",
        "        A[:,i] = (fun(xn,u0)-fun(x0,u0))/eps\n",
        "    \n",
        "    for i in range(len(u0)):\n",
        "        un = u0.copy()\n",
        "        un[i] += eps\n",
        "        B[:,i] = (fun(x0,un)-fun(x0,u0))/eps\n",
        "\n",
        "    return A,B\n",
        "x0 = np.append(qpoint[:6],np.zeros((6,)))\n",
        "u0 = qpoint[6:]\n",
        "A,B = Linearize(fun,x0,u0)\n",
        "np.linalg.matrix_rank(ct.ctrb(A,B))"
      ]
    },
    {
      "cell_type": "markdown",
      "metadata": {},
      "source": [
        "### <center> Holding Torque Analysis</center>\n"
      ]
    },
    {
      "cell_type": "code",
      "execution_count": 17,
      "metadata": {},
      "outputs": [
        {
          "name": "stdout",
          "output_type": "stream",
          "text": [
            "const [ 0.00000000e+00  0.00000000e+00 -3.45973440e-08  1.06042957e-07\n",
            " -7.94055222e-09  1.88124225e-10]\n",
            "const [ 0.00000000e+00  0.00000000e+00 -2.13129816e-07  5.09044285e-07\n",
            " -8.99937970e-08  2.40247961e-09]\n",
            "const [ 0.00000000e+00  0.00000000e+00 -3.14840255e-07  4.28276864e-07\n",
            " -2.41678337e-07  3.18819786e-09]\n",
            "const [ 0.00000000e+00  0.00000000e+00 -5.80952642e-09  1.10892472e-08\n",
            " -2.80702193e-09  3.19639596e-11]\n",
            "const [ 0.00000000e+00  0.00000000e+00 -1.31783795e-09  1.29891056e-09\n",
            " -1.25222299e-09  5.50735212e-12]\n",
            "const [ 0.00000000e+00  0.00000000e+00 -3.15871571e-08  4.40400035e-08\n",
            " -2.16717480e-08  2.16757958e-10]\n",
            "const [ 0.00000000e+00  0.00000000e+00 -1.14850462e-10  2.47791732e-10\n",
            " -1.59328471e-11  5.64939024e-13]\n",
            "const [ 0.00000000e+00  0.00000000e+00 -2.90427569e-08  4.64343146e-08\n",
            " -1.22347998e-08 -7.48545251e-09]\n",
            "const [ 0.00000000e+00  0.00000000e+00 -2.51221266e-12  1.18088562e-11\n",
            " -1.27362765e-12 -8.22543725e-13]\n",
            "const [ 0.00000000e+00  0.00000000e+00  1.18870835e-09 -9.64891930e-10\n",
            "  1.27701103e-09 -4.83847910e-10]\n",
            "const [0.00000000e+00 0.00000000e+00 4.86581109e-10 2.55435660e-09\n",
            " 4.13222322e-09 1.01654593e-10]\n",
            "const [ 0.00000000e+00  0.00000000e+00  2.99785750e-08 -2.10410295e-08\n",
            "  3.64848031e-08  1.45433604e-08]\n",
            "const [ 0.00000000e+00  0.00000000e+00 -2.68679545e-09  4.98213198e-09\n",
            "  2.60400416e-09  1.03541664e-09]\n",
            "const [ 0.00000000e+00  0.00000000e+00 -1.12668402e-08  2.82537064e-08\n",
            "  3.97973974e-08 -6.57330594e-11]\n",
            "const [ 0.00000000e+00  0.00000000e+00 -1.03941489e-09 -2.37564418e-09\n",
            "  1.52345623e-09  5.67922034e-10]\n"
          ]
        }
      ],
      "source": [
        "eng=[]\n",
        "TMM = []\n",
        "t1ang =  np.linspace(deg2rad(30),deg2rad(50),15)\n",
        "for i in t1ang:\n",
        "    qpoint,_ = operatingPoint( q0,q1 = i )\n",
        "    _ = qpoint[-5:]\n",
        "    eng.append(np.sum(_))\n",
        "    TMM.append(_[2])\n",
        "eng = np.array(eng)\n",
        "TMM = np.array(TMM)"
      ]
    },
    {
      "cell_type": "code",
      "execution_count": 18,
      "metadata": {},
      "outputs": [
        {
          "data": {
            "image/png": "[encoded data removed]",
            "text/plain": [
              "<Figure size 600x400 with 1 Axes>"
            ]
          },
          "metadata": {},
          "output_type": "display_data"
        }
      ],
      "source": [
        "plot(t1ang,eng,'r')\n",
        "plot(t1ang,TMM,'b')\n",
        "scatter(t1ang,eng)\n",
        "scatter(t1ang,TMM)\n",
        "xlabel(r'$q_1$')\n",
        "ylabel('Energy (N.m)')\n",
        "legend(['Total Holding Torque','Hip Torque'])\n",
        "show()"
      ]
    },
    {
      "attachments": {},
      "cell_type": "markdown",
      "metadata": {},
      "source": [
        "# Inverse Kinematic"
      ]
    },
    {
      "cell_type": "code",
      "execution_count": 22,
      "metadata": {},
      "outputs": [],
      "source": [
        "def AnimePlotline(q,fig,ax):\n",
        "    points = robopoints(*q)\n",
        "    com = com_N(*q)\n",
        "    limit = np.array([points[0,2],points[0,6]-0.100,\n",
        "                      points[0,8],points[0,6]+0.100])\n",
        "    pnts1 = points[:,:4]\n",
        "    pnts2 = np.hstack((points[:,1:2],points[:,4:5]))\n",
        "    pnts3 = points[:,6:-1]\n",
        "    ax.plot(pnts1[0,:], pnts1[1,:], color='#28b34b', linewidth=4, zorder=2)\n",
        "    ax.plot(pnts2[0,:], pnts2[1,:], color='#28b34b', linewidth=4, zorder=2)\n",
        "    ax.plot(pnts3[0,:], pnts3[1,:], color='#28b34b', linewidth=4, zorder=2)\n",
        "    circle = plt.Circle((pnts1[0,0], pnts1[1,0]), 0.07, facecolor='#4a54a4', edgecolor='k')\n",
        "    squre = Rectangle((points[0,9], points[1,9]), 0.186, 0.186, angle=rad2deg(q[3]+q[5]+q[6]), \n",
        "                      facecolor='#4a54a4', edgecolor='k')\n",
        "    ax.add_patch(squre)\n",
        "    ax.add_artist(circle)\n",
        "    ax.scatter(pnts1[0,:], pnts1[1,:], facecolor='#4a54a4', edgecolor='#28b34b', zorder=3)\n",
        "    ax.scatter(pnts2[0,:], pnts2[1,:], facecolor='#4a54a4', edgecolor='#28b34b', zorder=3)\n",
        "    ax.scatter(pnts3[0,:], pnts3[1,:], facecolor='#4a54a4', edgecolor='#28b34b', zorder=3)\n",
        "    cm = np.round([com[0,0]-q[0], com[2,0]], 3)\n",
        "    ax.plot(com[0],com[2],'ro')\n",
        "    # ax.text(com[0,0]+0.15, com[2,0], f'COM: {cm[0],cm[1]}')\n",
        "    ax.plot([-0.5, 2.0], [0, 0], 'k')\n",
        "    # ax.set_xlim([-0.2,2.5])\n",
        "    # ax.set_xlim([min(limit)-0.1, max(limit)+0.1])\n",
        "    ax.set_ylim([-0.2,0.9])\n",
        "    # ax.plot(x_,z_)\n",
        "    ax.set_aspect('equal')\n",
        "    # xlim([-0.2,0.6])\n",
        "    # ylim([-0.1,0.9])\n",
        "    return fig, ax\n",
        "def Animeccc(q,fig,ax):\n",
        "    q = q.reshape(-1,)\n",
        "    q = np.insert(q,1,0)\n",
        "    q = np.insert(q,4,fourbar(q[4])[:2])[:9]\n",
        "    return AnimePlotline(q,fig,ax)"
      ]
    },
    {
      "cell_type": "code",
      "execution_count": 23,
      "metadata": {},
      "outputs": [],
      "source": [
        "def atan2(dy,dx):\n",
        "    if dy ==0 and dx == 0:\n",
        "        return 0\n",
        "    ang = np.arctan(abs(dy/dx))\n",
        "    if dy>=0 and dx>=0:\n",
        "        return ang \n",
        "    elif dy>=0 and dx<=0:\n",
        "        return -ang\n",
        "    elif dy<=0 and dx<=0:\n",
        "        return ang\n",
        "    elif dy<=0 and dx>=0:\n",
        "        return -ang "
      ]
    },
    {
      "cell_type": "code",
      "execution_count": 24,
      "metadata": {},
      "outputs": [],
      "source": [
        "hols = vectomat(p24.pos_from(p34), L1).subs(values)\n",
        "hols = hols.row_del(1)\n",
        "pec = vectomat(pa2.pos_from(G).subs(values),N,1)\n",
        "pec = Matrix.vstack(pec,hols)\n",
        "pec = Matrix.vstack(pec,Matrix([q1 + q3 + q4 - 2 * sp.pi]))\n",
        "Xefun = lambdify([xc,yc,phi,q1,q2,q3,q4,qa1,qa2],pec,modules = 'numpy')"
      ]
    },
    {
      "cell_type": "code",
      "execution_count": 25,
      "metadata": {},
      "outputs": [],
      "source": [
        "class InvKin():\n",
        "    def __init__(self,xeff,qc):\n",
        "        self.xeff = xeff\n",
        "        self.qc  =qc\n",
        "        self.Q = np.diag([30,1,10,1,1,10,0.1,1])\n",
        "        self.bnds = [\n",
        "                     (None, None ), (None,None),\n",
        "                     (0.534,1.0276),\n",
        "                     (None, None ), (None,None),\n",
        "                     (3.55840321, 3.99440321),\n",
        "                     (np.pi/6,    np.pi-np.pi/6),\n",
        "                     (None,None)\n",
        "                    #  (-np.pi,np.pi)\n",
        "                    ]\n",
        "        self.const = [{'type':'eq','fun':self.ConstFun},\n",
        "                      {'type':'ineq','fun':self.EnConstFun},\n",
        "                    ]\n",
        "        # self.q1 = q1\n",
        "        self.phi = atan2(xeff[1]-qc[1] , xeff[0]-qc[0])\n",
        "        self.temp = np.array([])\n",
        "\n",
        "    #  x y phi q1  q4 qa1 qa2\n",
        "    def Qconv(self,q):\n",
        "        q = np.insert(q,2,self.phi)\n",
        "        return q\n",
        "    #  x y phi q1 q2 q3 q4 qa1 qa2\n",
        "\n",
        "    def ConstFun(self,q):\n",
        "        self.temp = np.append(self.temp,q[0])\n",
        "        q = self.Qconv(q)\n",
        "        fn = (Xefun(*q)).reshape(-1,) - np.append(self.xeff,[0,0,0])\n",
        "        return fn\n",
        "    \n",
        "    def EnConstFun(self,q):\n",
        "        w = abs(np.sin(q[-1]))\n",
        "        ineq = np.array([w-0.701,1-w])\n",
        "        return ineq        \n",
        "\n",
        "    def Qconv2(self,q):\n",
        "        q = np.insert(q,2,self.phi)\n",
        "        q = np.delete(q,4)\n",
        "        q = np.delete(q,4)\n",
        "        q = np.delete(q,1)\n",
        "        return q\n",
        "\n",
        "    def ObjFun(self,q):\n",
        "        obj = np.dot((q-self.qc), np.dot(self.Q , (q-self.qc)))\n",
        "        return obj\n",
        "    #  x y phi q1 q4 qa1 qa2\n",
        "    def solveIK(self,):\n",
        "        sol = minimize(self.ObjFun,self.qc,method='SLSQP',bounds = self.bnds,  constraints=self.const)\n",
        "        print(self.ConstFun(sol['x']))\n",
        "        return self.Qconv2(sol['x']), sol['x']\n"
      ]
    },
    {
      "cell_type": "code",
      "execution_count": 26,
      "metadata": {},
      "outputs": [
        {
          "name": "stdout",
          "output_type": "stream",
          "text": [
            "[-5.48492432e-10  0.00000000e+00 -5.99726158e-10  0.00000000e+00\n",
            " -1.30104261e-16  0.00000000e+00]\n",
            "[-0.25011799  0.          0.39150109]\n"
          ]
        },
        {
          "data": {
            "image/png": "[encoded data removed]",
            "text/plain": [
              "<Figure size 400x600 with 1 Axes>"
            ]
          },
          "metadata": {},
          "output_type": "display_data"
        }
      ],
      "source": [
        "%matplotlib inline\n",
        "figsize(6,4)\n",
        "qc = np.array([0,  0,  7.85398163e-01,0,0 , 3.87503035e+00,\n",
        "                1.86246296e+00, -3.03414032e-01])\n",
        "xeff = np.array([0  , 0.  , 0.6])\n",
        "Ik1 = InvKin(xeff,qc)\n",
        "sl,qnc = Ik1.solveIK()\n",
        "# sl = np.delete(sl,1)\n",
        "# sl = np.insert(sl,2,np.pi/4)\n",
        "# print(sl,qnc)\n",
        "ccc(sl)\n",
        "plot(xeff[0],xeff[2],'ko')\n",
        "show()"
      ]
    },
    {
      "attachments": {},
      "cell_type": "markdown",
      "metadata": {},
      "source": [
        "## <center> End Effecter Inverse Kinematics </center>\n"
      ]
    },
    {
      "cell_type": "markdown",
      "metadata": {},
      "source": [
        "### <center> Linear Trajectory IK</center>\n"
      ]
    },
    {
      "cell_type": "code",
      "execution_count": 27,
      "metadata": {},
      "outputs": [
        {
          "data": {
            "image/png": "[encoded data removed]",
            "text/plain": [
              "<Figure size 600x400 with 1 Axes>"
            ]
          },
          "metadata": {},
          "output_type": "display_data"
        }
      ],
      "source": [
        "# %matplotlib inline\n",
        "# %matplotlib qt\n",
        "x_ = np.linspace(0,2,20)\n",
        "y_ = np.zeros_like(x_)\n",
        "z_ = 0.55*np.ones_like(x_)\n",
        "state = np.vstack((x_,y_,z_))\n",
        "figsize(4,6)\n",
        "plot(x_,z_,'g')\n",
        "axis('equal')\n",
        "ylim([0,.8])\n",
        "xlabel('X(m)',fontsize = 12); ylabel('Z(m)',fontsize = 12)\n",
        "tick_params(axis='both',labelsize = 12)\n",
        "legend(['End Eff Trejectory'])\n",
        "tight_layout()\n",
        "show()"
      ]
    },
    {
      "cell_type": "code",
      "execution_count": 28,
      "metadata": {},
      "outputs": [
        {
          "name": "stdout",
          "output_type": "stream",
          "text": [
            "[-1.99423811e-14  0.00000000e+00 -1.31006317e-14 -8.63198402e-15\n",
            " -3.21418239e-14 -8.88178420e-16]\n",
            "[-5.23344562e-11  0.00000000e+00 -9.45430401e-11 -5.42568074e-11\n",
            " -1.04230383e-10  0.00000000e+00]\n",
            "[-5.09075559e-10  0.00000000e+00 -8.25854940e-11 -2.48870230e-11\n",
            " -3.03318059e-10  0.00000000e+00]\n",
            "[-4.30763702e-10  0.00000000e+00 -1.34957934e-10 -6.47179532e-11\n",
            "  1.44450838e-10  8.88178420e-16]\n",
            "[-9.90874049e-14  0.00000000e+00 -1.18571819e-13 -6.63913369e-14\n",
            " -1.07509487e-13  0.00000000e+00]\n",
            "[0.00000000e+00 0.00000000e+00 0.00000000e+00 0.00000000e+00\n",
            " 2.60208521e-18 0.00000000e+00]\n",
            "[-2.22044605e-16  0.00000000e+00  0.00000000e+00  0.00000000e+00\n",
            "  3.03576608e-17 -8.88178420e-16]\n",
            "[ 0.00000000e+00  0.00000000e+00  0.00000000e+00 -2.77555756e-17\n",
            " -2.42861287e-17  8.88178420e-16]\n",
            "[0.00000000e+00 0.00000000e+00 0.00000000e+00 0.00000000e+00\n",
            " 3.03576608e-17 0.00000000e+00]\n",
            "[ 0.00000000e+00  0.00000000e+00  0.00000000e+00  0.00000000e+00\n",
            " -1.35308431e-16  0.00000000e+00]\n",
            "[0.00000000e+00 0.00000000e+00 2.22044605e-16 0.00000000e+00\n",
            " 3.03576608e-17 8.88178420e-16]\n",
            "[ 2.22044605e-16  0.00000000e+00  0.00000000e+00 -1.38777878e-17\n",
            "  2.60208521e-18  0.00000000e+00]\n",
            "[-2.22044605e-16  0.00000000e+00  0.00000000e+00  2.77555756e-17\n",
            " -2.51534904e-17  0.00000000e+00]\n",
            "[ 2.22044605e-16  0.00000000e+00  0.00000000e+00 -1.38777878e-17\n",
            " -2.51534904e-17 -8.88178420e-16]\n",
            "[4.44089210e-16 0.00000000e+00 0.00000000e+00 0.00000000e+00\n",
            " 1.13624388e-16 0.00000000e+00]\n",
            "[-2.22044605e-16  0.00000000e+00 -1.11022302e-16  4.16333634e-17\n",
            " -7.97972799e-17  8.88178420e-16]\n",
            "[-2.22044605e-16  0.00000000e+00  1.11022302e-16 -1.38777878e-17\n",
            " -2.51534904e-17  0.00000000e+00]\n",
            "[ 0.00000000e+00  0.00000000e+00  0.00000000e+00 -1.38777878e-17\n",
            " -2.51534904e-17 -8.88178420e-16]\n",
            "[6.66133815e-16 0.00000000e+00 0.00000000e+00 0.00000000e+00\n",
            " 1.13624388e-16 0.00000000e+00]\n",
            "[-2.22044605e-16  0.00000000e+00  0.00000000e+00  0.00000000e+00\n",
            " -2.42861287e-17  0.00000000e+00]\n"
          ]
        }
      ],
      "source": [
        "def pathGen(state,qc):\n",
        "    path = []\n",
        "    for i in range(state.shape[1]):\n",
        "        xeff = state[:,i]\n",
        "        \n",
        "        Ik = InvKin(xeff,qc)\n",
        "        ang,qc = Ik.solveIK()\n",
        "        path.append(ang)\n",
        "    path = np.array(path)\n",
        "    return path\n",
        "qc = np.array([ -0.2  ,  0.        ,  0.78539816,  0.        ,  0.        ,\n",
        "        3.87503035,  1.86246296, -0.30341403])\n",
        "path = pathGen(state,qc)"
      ]
    },
    {
      "cell_type": "code",
      "execution_count": 30,
      "metadata": {},
      "outputs": [],
      "source": [
        "import matplotlib.pyplot as plt\n",
        "%matplotlib qt\n",
        "close()\n",
        "laby = ['$x(m)$', '$\\phi(rad)$', '$q_1(rad)$', '$q_4(rad)$', '$q_{a_{1}}(rad)$', '$q_{a_{2}}(rad)$']\n",
        "colors = ['red', 'blue', 'green', 'orange', 'purple', 'brown']  \n",
        "# plt.figure(figsize=(4, 8))\n",
        "for i in range(6):\n",
        "    plt.subplot(6, 1, i+1)\n",
        "    plt.plot(path[:, i],colors[i],linewidth =2)\n",
        "    plt.legend([laby[i]], fontsize=10,loc='upper right')\n",
        "    tick_params(axis='both', labelsize=12,)\n",
        "annotate('Inverse kinematic of Sinusoidal Trajectory', xy=(0.5, 8.7), xycoords='axes fraction',\n",
        "            fontsize=20, ha='center', va='bottom')  # Add the new title annotation\n",
        "plt.xlabel('t (sec)', fontsize=12)\n",
        "text(-2.1, 1.8, 'State', ha='center', va='center', rotation='vertical', fontsize=20)\n",
        "plt.subplots_adjust(hspace=0.5, wspace=0.25)"
      ]
    },
    {
      "cell_type": "code",
      "execution_count": 249,
      "metadata": {},
      "outputs": [],
      "source": [
        "close()\n",
        "%matplotlib qt\n",
        "figsize(12,18)\n",
        "fig, ax = subplots()\n",
        "# for i in [0,5,10,15,19]:\n",
        "for i in range(20):\n",
        "    fig ,ax = Animeccc(path[i],fig,ax)\n",
        "ax.plot(x_,z_,'r',linewidth = 3)\n",
        "ax.tick_params(axis='both', labelsize=16,)\n",
        "ax.set_title('Inverse Kinematic of Sinusoidal Trajectory',fontsize = 18)\n",
        "ax.set_xlabel('X(m)',fontsize = 16)\n",
        "ax.set_ylabel('Z(m)',fontsize = 16)\n",
        "show()\n",
        "# savefig(\"C:\\\\Users\\\\pkver\\\\Desktop\\\\Thesis\\\\Tracking\\\\invkin sin.png\")"
      ]
    },
    {
      "cell_type": "markdown",
      "metadata": {},
      "source": [
        "### <center> sine wave IK</center>\n"
      ]
    },
    {
      "cell_type": "code",
      "execution_count": 46,
      "metadata": {},
      "outputs": [],
      "source": [
        "# %matplotlib inline\n",
        "%matplotlib qt\n",
        "t_ = np.linspace(0,5,20)\n",
        "x_ = np.linspace(0,2,20)\n",
        "y_ = np.zeros_like(x_)\n",
        "z_ = 0.55+0.15*np.sin(x_*5) \n",
        "state = np.vstack((x_,y_,z_))\n",
        "figsize(4,6)\n",
        "plot(x_,z_,'g')\n",
        "axis('equal')\n",
        "ylim([0,.8])\n",
        "xlabel('X(m)',fontsize = 12); ylabel('Z(m)',fontsize = 12)\n",
        "tick_params(axis='both',labelsize = 12)\n",
        "legend(['End Eff Trejectory'])\n",
        "tight_layout()\n",
        "show()"
      ]
    },
    {
      "cell_type": "code",
      "execution_count": 47,
      "metadata": {},
      "outputs": [
        {
          "name": "stdout",
          "output_type": "stream",
          "text": [
            "[-1.99423811e-14  0.00000000e+00 -1.31006317e-14 -8.63198402e-15\n",
            " -3.21418239e-14 -8.88178420e-16]\n",
            "[-3.99319466e-13  0.00000000e+00 -1.40887302e-13  1.38777878e-17\n",
            "  6.93889390e-18  0.00000000e+00]\n",
            "[-6.51975696e-12  0.00000000e+00 -3.54805074e-12  3.46944695e-17\n",
            "  8.76035355e-17  0.00000000e+00]\n",
            "[-1.68753900e-14  0.00000000e+00 -1.04360964e-14  1.38777878e-17\n",
            "  6.93889390e-18  0.00000000e+00]\n",
            "[-2.66453526e-14  0.00000000e+00 -1.15463195e-14  1.38777878e-17\n",
            "  6.93889390e-18 -8.88178420e-16]\n",
            "[-4.05364631e-12  0.00000000e+00 -1.35746969e-12 -1.38777878e-17\n",
            "  8.76035355e-17  0.00000000e+00]\n",
            "[-1.04491067e-08  0.00000000e+00 -6.84061385e-09 -3.45061979e-09\n",
            " -1.22396160e-10 -8.88178420e-16]\n",
            "[-7.12433335e-10  0.00000000e+00  6.74372225e-11 -1.75298526e-10\n",
            " -7.84013739e-12  0.00000000e+00]\n",
            "[-5.55091528e-11  0.00000000e+00  8.11020695e-11 -4.66712294e-11\n",
            " -2.80059504e-11  0.00000000e+00]\n",
            "[-2.69530065e-10  0.00000000e+00  2.63219280e-10 -4.73465017e-11\n",
            "  1.23888833e-11  0.00000000e+00]\n",
            "[-4.35651515e-11  0.00000000e+00  2.36408115e-11 -8.38907416e-12\n",
            "  1.01374291e-12  0.00000000e+00]\n",
            "[-5.32565103e-11  0.00000000e+00 -5.40084644e-12 -9.96563942e-14\n",
            "  8.90433560e-15 -8.88178420e-16]\n",
            "[-2.97051272e-12  0.00000000e+00 -5.45663514e-12 -1.01232911e-12\n",
            "  9.66952213e-14  0.00000000e+00]\n",
            "[-4.13275192e-10  0.00000000e+00 -8.87890206e-10 -2.26841344e-10\n",
            " -4.16792902e-12  8.88178420e-16]\n",
            "[-4.31299441e-12  0.00000000e+00 -1.20313759e-11 -2.14278595e-12\n",
            " -5.39212338e-13 -8.88178420e-16]\n",
            "[-7.89268650e-11  0.00000000e+00 -5.60694380e-10 -1.38330007e-10\n",
            "  2.95976995e-11 -8.88178420e-16]\n",
            "[-3.15704902e-08  0.00000000e+00 -4.44540736e-08 -1.19288832e-09\n",
            "  1.08935111e-08 -8.88178420e-16]\n",
            "[-6.92142921e-09  0.00000000e+00 -8.92781382e-09 -2.28642598e-10\n",
            "  3.15037883e-09  0.00000000e+00]\n",
            "[-1.20032302e-08  0.00000000e+00 -2.65654283e-08 -7.18137488e-09\n",
            "  1.48654407e-11  8.88178420e-16]\n",
            "[-3.14888182e-09  0.00000000e+00  2.49150200e-10 -7.20211370e-10\n",
            "  1.30205499e-11  0.00000000e+00]\n"
          ]
        }
      ],
      "source": [
        "def pathGen(state,qc):\n",
        "    path = []\n",
        "    for i in range(state.shape[1]):\n",
        "        xeff = state[:,i]\n",
        "        \n",
        "        Ik = InvKin(xeff,qc)\n",
        "        ang,qc = Ik.solveIK()\n",
        "        path.append(ang)\n",
        "    path = np.array(path)\n",
        "    return path\n",
        "qc = np.array([ -0.2  ,  0.        ,  0.78539816,  0.        ,  0.        ,\n",
        "        3.87503035,  1.86246296, -0.30341403])\n",
        "path = pathGen(state,qc)"
      ]
    },
    {
      "cell_type": "code",
      "execution_count": 48,
      "metadata": {},
      "outputs": [],
      "source": [
        "import matplotlib.pyplot as plt\n",
        "%matplotlib qt\n",
        "close()\n",
        "laby = ['$x(m)$', '$\\phi(rad)$', '$q_1(rad)$', '$q_4(rad)$', '$q_{a_{1}}(rad)$', '$q_{a_{2}}(rad)$']\n",
        "colors = ['red', 'blue', 'green', 'orange', 'purple', 'brown']  \n",
        "# plt.figure(figsize=(4, 8))\n",
        "for i in range(6):\n",
        "    plt.subplot(6, 1, i+1)\n",
        "    plt.plot(path[:, i],colors[i],linewidth =2)\n",
        "    plt.legend([laby[i]], fontsize=10,loc='upper right')\n",
        "    tick_params(axis='both', labelsize=12,)\n",
        "annotate('Inverse kinematic of Sinusoidal Trajectory', xy=(0.5, 8.7), xycoords='axes fraction',\n",
        "            fontsize=20, ha='center', va='bottom')  # Add the new title annotation\n",
        "plt.xlabel('Number of Cartesian Coordinates', fontsize=12)\n",
        "text(-2.1, 1.8, 'State', ha='center', va='center', rotation='vertical', fontsize=20)\n",
        "plt.subplots_adjust(hspace=0.5, wspace=0.25)"
      ]
    },
    {
      "cell_type": "code",
      "execution_count": 50,
      "metadata": {},
      "outputs": [],
      "source": [
        "close()\n",
        "%matplotlib qt\n",
        "figsize(12,18)\n",
        "fig, ax = subplots()\n",
        "for i in [0,5,10,15,19]:\n",
        "# for i in range(20):\n",
        "    fig ,ax = Animeccc(path[i],fig,ax)\n",
        "ax.plot(x_,z_,'r',linewidth = 3)\n",
        "ax.tick_params(axis='both', labelsize=16,)\n",
        "ax.set_title('Inverse Kinematic of Sinusoidal Trajectory',fontsize = 18)\n",
        "ax.set_xlabel('X(m)',fontsize = 16)\n",
        "ax.set_ylabel('Z(m)',fontsize = 16)\n",
        "show()\n",
        "# savefig(\"C:\\\\Users\\\\pkver\\\\Desktop\\\\Thesis\\\\Tracking\\\\invkin sin.png\")"
      ]
    },
    {
      "cell_type": "markdown",
      "metadata": {},
      "source": [
        "### <center> Tringular wave IK</center>"
      ]
    },
    {
      "cell_type": "code",
      "execution_count": 36,
      "metadata": {},
      "outputs": [],
      "source": [
        "def triang(n,d=0.4,h=0.2,off=0,n0=6):\n",
        "    a=0\n",
        "    d=d/n\n",
        "    x=[0]; y=[0]\n",
        "    # n0 = int(n0)\n",
        "    for i in range(n):\n",
        "        x = np.append(x,np.linspace(a,a+d/2,n0)[1:])\n",
        "        y = np.append(y,np.linspace(0,h,n0)[1:] )\n",
        "        x = np.append(x, np.linspace(a+d/2,a+d,n0)[1:] )\n",
        "        y = np.append(y, np.linspace(h,0,n0)[1:] )\n",
        "        a = a +d\n",
        "    return x,y+off"
      ]
    },
    {
      "cell_type": "code",
      "execution_count": 37,
      "metadata": {},
      "outputs": [],
      "source": [
        "# %matplotlib inline\n",
        "# %matplotlib qt\n",
        "\n",
        "x_,z_=triang(2,d=2,h=0.3,off=0.4)\n",
        "y_ = np.zeros_like(x_)\n",
        "state = np.vstack((x_,y_,z_))\n",
        "figsize(4,6)\n",
        "plot(x_,z_,'g')\n",
        "axis('equal')\n",
        "ylim([0,.8])\n",
        "xlabel('X(m)',fontsize = 12); ylabel('Z(m)',fontsize = 12)\n",
        "tick_params(axis='both',labelsize = 12)\n",
        "legend(['End Eff Trejectory'])\n",
        "tight_layout()\n",
        "show()"
      ]
    },
    {
      "cell_type": "code",
      "execution_count": 38,
      "metadata": {},
      "outputs": [
        {
          "name": "stdout",
          "output_type": "stream",
          "text": [
            "[-5.95419269e-11  0.00000000e+00  1.39984857e-10 -1.74763884e-11\n",
            "  2.64897349e-12  0.00000000e+00]\n",
            "[-2.91676901e-08  0.00000000e+00  2.41015241e-09 -4.76065021e-12\n",
            " -4.02337560e-12  0.00000000e+00]\n",
            "[-5.87435656e-12  0.00000000e+00 -3.82693877e-13 -1.38777878e-15\n",
            " -7.54604712e-17  0.00000000e+00]\n",
            "[-2.24053898e-08  0.00000000e+00 -1.01115420e-08 -2.19882008e-10\n",
            " -1.13122029e-11  0.00000000e+00]\n",
            "[-2.59563431e-08  0.00000000e+00 -2.38119816e-08 -2.40404988e-10\n",
            " -1.23169317e-10  0.00000000e+00]\n",
            "[-1.73083770e-11  0.00000000e+00 -1.97359906e-11 -2.61540789e-12\n",
            "  7.49647740e-13  0.00000000e+00]\n",
            "[-3.60579089e-09  0.00000000e+00 -7.79014153e-09 -2.08057097e-09\n",
            " -1.21203604e-10  0.00000000e+00]\n",
            "[-1.32910116e-09  0.00000000e+00 -2.96891911e-09 -8.99001179e-10\n",
            " -5.59138612e-11  0.00000000e+00]\n",
            "[-8.76923090e-10  0.00000000e+00 -3.50885321e-10 -2.49822385e-10\n",
            "  6.05228107e-12  0.00000000e+00]\n",
            "[-5.47702550e-10  0.00000000e+00  1.36630485e-10 -1.23673911e-10\n",
            " -2.97500739e-12 -8.88178420e-16]\n",
            "[-2.15656604e-10  0.00000000e+00  2.42077747e-10 -3.53228766e-11\n",
            "  6.88323010e-12  0.00000000e+00]\n",
            "[-1.81619164e-11  0.00000000e+00  6.38211706e-13 -5.27954069e-12\n",
            "  5.20636485e-13  0.00000000e+00]\n",
            "[-3.46198625e-11  0.00000000e+00 -9.54003543e-12 -3.01522696e-13\n",
            "  1.40165657e-15  0.00000000e+00]\n",
            "[-4.04830838e-08  0.00000000e+00 -2.67314688e-08 -3.63901825e-11\n",
            " -6.88574198e-12  8.88178420e-16]\n",
            "[-7.67061969e-11  0.00000000e+00 -1.88239313e-10 -4.84450813e-11\n",
            "  1.62854452e-12  0.00000000e+00]\n",
            "[-2.75712786e-12  0.00000000e+00 -1.11013421e-11 -2.15904378e-12\n",
            " -1.04160192e-12  0.00000000e+00]\n",
            "[-9.85844428e-09  0.00000000e+00 -1.19469842e-08 -8.16499764e-10\n",
            "  4.28958488e-09  0.00000000e+00]\n",
            "[-4.77421325e-08  0.00000000e+00 -5.00739030e-08 -1.51183402e-09\n",
            "  2.21145912e-08  0.00000000e+00]\n",
            "[-3.36054518e-10  0.00000000e+00 -1.34810829e-10 -8.78933107e-11\n",
            "  3.12869620e-12  0.00000000e+00]\n",
            "[-6.38512498e-08  0.00000000e+00  9.43927686e-09 -1.24290671e-08\n",
            "  1.77358935e-09  0.00000000e+00]\n",
            "[-2.46526088e-09  0.00000000e+00  2.48071980e-09 -6.05871471e-10\n",
            " -1.39410993e-10  0.00000000e+00]\n"
          ]
        }
      ],
      "source": [
        "def pathGen(state,qc):\n",
        "    path = []\n",
        "    for i in range(state.shape[1]):\n",
        "        xeff = state[:,i]\n",
        "        Ik = InvKin(xeff,qc)\n",
        "        ang,qc = Ik.solveIK()\n",
        "        path.append(ang)\n",
        "    path = np.array(path)\n",
        "    return path\n",
        "qc = np.array([ -0.2        ,  0.        ,  0.78539816,  0.        ,  0.        ,\n",
        "        3.87503035,  1.86246296, -0.30341403])\n",
        "path = pathGen(state,qc)"
      ]
    },
    {
      "cell_type": "code",
      "execution_count": 54,
      "metadata": {},
      "outputs": [],
      "source": [
        "import matplotlib.pyplot as plt\n",
        "# %matplotlib qt\n",
        "# close()\n",
        "laby = ['$x(m)$', '$\\phi(rad)$', '$q_1(rad)$', '$q_4(rad)$', '$q_{a_{1}}(rad)$', '$q_{a_{2}}(rad)$']\n",
        "colors = ['red', 'blue', 'green', 'orange', 'purple', 'brown']  \n",
        "# plt.figure(figsize=(4, 8))\n",
        "for i in range(6):\n",
        "    plt.subplot(6, 1, i+1)\n",
        "    plt.plot(path[:, i],colors[i],linewidth = 2)\n",
        "    plt.legend([laby[i]], fontsize=10,loc='upper right')\n",
        "    tick_params(axis='both', labelsize=12,)\n",
        "annotate('Inverse kinematic of Tringular Trajectory', xy=(0.5, 8.7), xycoords='axes fraction',\n",
        "            fontsize=20, ha='center', va='bottom')  # Add the new title annotation\n",
        "plt.xlabel('Number of Cartesian Coordinates', fontsize=12)\n",
        "text(-2, 3, 'State', ha='center', va='center', rotation='vertical', fontsize=20)\n",
        "plt.subplots_adjust(hspace=0.5, wspace=0.25)"
      ]
    },
    {
      "cell_type": "code",
      "execution_count": 321,
      "metadata": {},
      "outputs": [],
      "source": [
        "# close()\n",
        "%matplotlib qt\n",
        "figsize(12,18)\n",
        "fig, ax = subplots()\n",
        "# for i in [0,5,10,15,19]:\n",
        "for i in [0,4,8,12,16,19]:\n",
        "    fig ,ax = Animeccc(path[i],fig,ax)\n",
        "ax.plot(x_,z_,'r',linewidth=3)\n",
        "ax.tick_params(axis='both', labelsize=16,)\n",
        "ax.set_title('Inverse Kinematic of Tringular Trajectory',fontsize = 18)\n",
        "ax.set_xlabel('X(m)',fontsize = 16)\n",
        "ax.set_ylabel('Z(m)',fontsize = 16)\n",
        "show()\n",
        "# savefig(\"C:\\\\Users\\\\pkver\\\\Desktop\\\\Thesis\\\\Tracking\\\\invkin sin.png\")"
      ]
    },
    {
      "cell_type": "markdown",
      "metadata": {},
      "source": [
        "### <center> Elliptical Trajectory IK</center>"
      ]
    },
    {
      "cell_type": "code",
      "execution_count": 43,
      "metadata": {},
      "outputs": [],
      "source": [
        "r_ = 0.2\n",
        "th_ = np.linspace(0, 2*np.pi, 20)\n",
        "x_ = 0.3+1.5 * r_ * np.cos(th_)\n",
        "z_ = 0.55 + r_ * 1 * np.sin(th_)\n",
        "y_ = np.zeros_like(x_)\n",
        "state = np.vstack((x_, y_, z_))\n",
        "\n",
        "plt.plot(x_, z_, 'g')\n",
        "plt.axis('equal')\n",
        "# plt.gca().set_ylim([0, 0.8])\n",
        "plt.xlabel('X(m)', fontsize=12)\n",
        "plt.ylabel('Z(m)', fontsize=12)\n",
        "plt.tick_params(axis='both', labelsize=12)\n",
        "plt.legend(['End Eff Trajectory'])\n",
        "plt.show()"
      ]
    },
    {
      "cell_type": "code",
      "execution_count": 44,
      "metadata": {},
      "outputs": [
        {
          "name": "stdout",
          "output_type": "stream",
          "text": [
            "[-3.94182609e-09  0.00000000e+00 -3.07006309e-09  9.85749579e-10\n",
            " -4.29463833e-10  0.00000000e+00]\n",
            "[-2.62633282e-07  0.00000000e+00 -1.19074766e-07 -1.11438636e-14\n",
            " -4.94283434e-14  0.00000000e+00]\n",
            "[-5.48381212e-08  0.00000000e+00 -9.10010851e-08 -6.37002646e-09\n",
            "  9.26070305e-10  0.00000000e+00]\n",
            "[-1.32112932e-10  0.00000000e+00 -2.08296935e-10 -1.42115486e-13\n",
            " -3.25087179e-15  0.00000000e+00]\n",
            "[-1.48695428e-09  0.00000000e+00 -5.90732985e-09 -1.01448017e-12\n",
            " -5.42014350e-14  0.00000000e+00]\n",
            "[ 5.95834104e-09  0.00000000e+00 -1.19211056e-07 -1.04666276e-12\n",
            " -3.45721715e-14 -8.88178420e-16]\n",
            "[-7.63584887e-09  0.00000000e+00 -5.90736501e-08 -7.80614670e-11\n",
            " -1.43701782e-12 -8.88178420e-16]\n",
            "[ 7.25418721e-09  0.00000000e+00 -1.08184874e-08 -9.80066160e-10\n",
            "  3.87456430e-12  0.00000000e+00]\n",
            "[-1.53259239e-10  0.00000000e+00 -1.58186797e-10 -3.27677468e-11\n",
            "  9.44311383e-12  0.00000000e+00]\n",
            "[-1.00678374e-09  0.00000000e+00 -1.56517876e-09 -7.05296030e-11\n",
            "  6.95434066e-11  0.00000000e+00]\n",
            "[-1.02754954e-08  0.00000000e+00 -9.13467024e-09 -1.72733193e-09\n",
            "  1.58724872e-10  0.00000000e+00]\n",
            "[-2.84657049e-08  0.00000000e+00  3.26664254e-08 -1.57246757e-10\n",
            "  2.47392627e-11 -8.88178420e-16]\n",
            "[-5.88224414e-10  0.00000000e+00  1.40561895e-10 -3.33434114e-11\n",
            " -2.65147626e-12  8.88178420e-16]\n",
            "[-6.58806343e-13  0.00000000e+00  2.68451927e-13 -8.04911693e-16\n",
            " -1.04083409e-17 -8.88178420e-16]\n",
            "[-3.40272255e-12  0.00000000e+00 -3.78458376e-12  2.97999125e-12\n",
            "  9.22425331e-13  0.00000000e+00]\n",
            "[-5.08014741e-11  0.00000000e+00  9.53124801e-11  1.01169073e-14\n",
            "  2.11809736e-15  8.88178420e-16]\n",
            "[-5.07871162e-09  0.00000000e+00 -2.56967764e-09 -1.61031323e-09\n",
            "  2.75287938e-10  0.00000000e+00]\n",
            "[ 7.68906172e-09  0.00000000e+00 -5.18137305e-09 -1.51349555e-09\n",
            " -9.50383182e-09  0.00000000e+00]\n",
            "[-9.23838783e-11  0.00000000e+00 -1.33749734e-10 -8.09478873e-12\n",
            "  1.37125380e-12  0.00000000e+00]\n",
            "[-1.20508539e-08  0.00000000e+00 -2.59470042e-08 -1.74413991e-09\n",
            "  3.09448803e-10 -8.88178420e-16]\n"
          ]
        }
      ],
      "source": [
        "def pathGen(state,qc):\n",
        "    path = []\n",
        "    for i in range(state.shape[1]):\n",
        "        xeff = state[:,i]\n",
        "        Ik = InvKin(xeff,qc)\n",
        "        ang,qc = Ik.solveIK()\n",
        "        path.append(ang)\n",
        "    path = np.array(path)\n",
        "    return path\n",
        "qc = np.array([ -0.2        ,  0.        ,  0.78539816,  0.        ,  0.        ,\n",
        "        3.87503035,  1.86246296, -0.30341403])\n",
        "path = pathGen(state,qc)"
      ]
    },
    {
      "cell_type": "code",
      "execution_count": 57,
      "metadata": {},
      "outputs": [],
      "source": [
        "import matplotlib.pyplot as plt\n",
        "# %matplotlib qt\n",
        "# close()\n",
        "laby = ['$x(m)$', '$\\phi(rad)$', '$q_1(rad)$', '$q_4(rad)$', '$q_{a_{1}}(rad)$', '$q_{a_{2}}(rad)$']\n",
        "colors = ['red', 'blue', 'green', 'orange', 'purple', 'brown']  \n",
        "# plt.figure(figsize=(4, 8))\n",
        "for i in range(6):\n",
        "    plt.subplot(6, 1, i+1)\n",
        "    plt.plot(path[:, i],colors[i],linewidth = 2)\n",
        "    plt.legend([laby[i]], fontsize=10, loc='upper right')\n",
        "    tick_params(axis='both', labelsize=12,)\n",
        "annotate('Inverse kinematic of Eliptical Trajectory', xy=(0.5, 8.7), xycoords='axes fraction',\n",
        "            fontsize=20, ha='center', va='bottom')  # Add the new title annotation\n",
        "plt.xlabel('Number of Cartesian Coordinates', fontsize=12)\n",
        "text(-2, 5, 'State', ha='center', va='center', rotation='vertical', fontsize=20)\n",
        "plt.subplots_adjust(hspace=0.5, wspace=0.25)"
      ]
    },
    {
      "cell_type": "code",
      "execution_count": 46,
      "metadata": {},
      "outputs": [],
      "source": [
        "# %matplotlib qt\n",
        "# close()\n",
        "figsize(4,6)\n",
        "fig, ax = subplots()\n",
        "# for i in [0,5,10,15,19]:\n",
        "# for i in [0,4,8,12,16,19]:\n",
        "for i in range(0,20,3):\n",
        "    fig ,ax = Animeccc(path[i],fig,ax)\n",
        "ax.plot(x_,z_,'r',linewidth=3)\n",
        "ax.tick_params(axis='both', labelsize=16,)\n",
        "ax.set_title('Inverse Kinematic of Eliptical Trajectory',fontsize = 18)\n",
        "ax.set_xlabel('X(m)',fontsize = 16)\n",
        "ax.set_ylabel('Z(m)',fontsize = 16)\n",
        "ax.set_xlim([-0.3,0.7])\n",
        "ax.set_ylim([-0.05,0.85])\n",
        "show()\n",
        "# savefig(\"C:\\\\Users\\\\pkver\\\\Desktop\\\\Thesis\\\\Tracking\\\\invkin sin.png\")"
      ]
    },
    {
      "cell_type": "code",
      "execution_count": null,
      "metadata": {},
      "outputs": [],
      "source": [
        "# # figsize(2,4)\n",
        "# ccc(qc)\n",
        "# plot(x_,z_,'r')\n",
        "# plot([0,2.5],[0,0],'k')\n",
        "# for i in range(20):\n",
        "#     ccc(path[i,:])\n",
        "#     plot(x_,z_,'r')\n",
        "#     plot(x_[i],z_[i],'ko')\n",
        "#     plot([0,2.5],[0,0],'k')\n",
        "#     show()"
      ]
    },
    {
      "cell_type": "markdown",
      "metadata": {},
      "source": [
        "# <center> # Class Controller</center>"
      ]
    },
    {
      "cell_type": "markdown",
      "metadata": {},
      "source": [
        "## <center> # Containes LQR and M-LQR both</center>"
      ]
    },
    {
      "cell_type": "code",
      "execution_count": 53,
      "metadata": {},
      "outputs": [],
      "source": [
        "C =np.zeros((6,12))\n",
        "C[:6,:6] = np.eye(6,6)\n",
        "ml,nl = C.shape\n",
        "oI = np.zeros((12+ml,ml))\n",
        "Ag = np.vstack((A,C))\n",
        "Ag = np.hstack((Ag,oI))\n",
        "Bg = np.vstack((B,np.zeros((ml,5))))"
      ]
    },
    {
      "cell_type": "code",
      "execution_count": 55,
      "metadata": {},
      "outputs": [],
      "source": [
        "class Controller():\n",
        "    def __init__(self,xi,ref,t,Cmode='lqr',\n",
        "                 Q = np.diag([5000,5000,500,500,200,200,\n",
        "                    0.1,1,1,1,1,1,\n",
        "                    #  1000,1000,400,400,200,200\n",
        "                     ]),\n",
        "                     R = np.diag([50,50,100,100,100]),\n",
        "                     Qg = np.diag([1000,1000,400,400,200,200,\n",
        "                                        1,0.1,0.1,0.1,0.1,0.1,\n",
        "                                       100,100,0.05,0.05,0.05,0.05]),\n",
        "                    Rg = np.diag([50,50,200,200,100]),\n",
        "                     ):\n",
        "        self.xi = xi \n",
        "        self.ref = ref\n",
        "        self.x0 = x0 \n",
        "        self.u0 = u0\n",
        "        self.t = t\n",
        "        self.k,_,_ = lqr(A,B,Q,R)\n",
        "        self.kg,_,_ = lqr(Ag,Bg,Qg,Rg)\n",
        "        self.cmode = Cmode\n",
        "        self.xf = self.ref(self.t[-1])\n",
        "        self.sw=0\n",
        "        \n",
        "    \n",
        "    def dynamicsLQR(self,x,t):\n",
        "        xn = x-self.ref(t)\n",
        "        u = self.u0-np.dot(self.k,xn)\n",
        "        xdot = np.dot(A,xn) + np.dot(B,u-self.u0)\n",
        "        return xdot\n",
        "    \n",
        "    def CreateRefMlqr(self,r):\n",
        "        r = np.append(r,r[:6])\n",
        "        return r\n",
        "\n",
        "    def dynamicsMLQR(self,x,t):\n",
        "        r = self.CreateRefMlqr(self.ref(t))\n",
        "        xn = x-r\n",
        "        u = self.u0-np.dot(self.kg,xn)\n",
        "        xdot = np.dot(Ag,xn) + np.dot(Bg,u-self.u0)\n",
        "        return xdot\n",
        "    \n",
        "    def runLQR(self,):\n",
        "        if self.cmode == 'lqr':\n",
        "            sol = odeint(self.dynamicsLQR,self.xi,self.t)\n",
        "            refval = [] \n",
        "            for i in self.t: \n",
        "                refval.append(self.ref(i))\n",
        "            refval = np.array(refval) \n",
        "            U = self.u0 - (np.dot(self.k,(sol-refval).T)).T\n",
        "            return sol,refval,U\n",
        "        elif self.cmode == 'mlqr':\n",
        "            self.xi = np.append(self.xi,np.zeros((6,)))\n",
        "            sol = odeint(self.dynamicsMLQR,self.xi,self.t)\n",
        "            refval = []\n",
        "            for i in self.t:\n",
        "                refval.append(self.CreateRefMlqr(self.ref(i)))\n",
        "            refval = np.array(refval)\n",
        "            U = self.u0 - (np.dot(self.kg,(sol-refval).T)).T\n",
        "            return sol,refval[:,:12],U\n"
      ]
    },
    {
      "cell_type": "code",
      "execution_count": 57,
      "metadata": {},
      "outputs": [],
      "source": [
        "def plotlqr(sol,refval,U,showG=1):\n",
        "#  state vs time\n",
        "\n",
        "    lab = ['$x$', '$\\phi$', '$q_1$', '$q_4$', '$q_{a_{1}}$', '$q_{a_{2}}$', \"$x'$\", \"$\\phi'$\", \"$q_1'$\", \n",
        "        \"$q_4'$\", \"$q_{a_{1}}'$\", \"$q_{a_{2}}'$\"]\n",
        "    laby = ['$x(m)$', '$\\phi(rad)$', '$q_1(rad)$', '$q_4(rad)$', '$q_{a_{1}}(rad)$', '$q_{a_{2}}(rad)$', \n",
        "            \"$x'$(m/s)\", \"$\\phi'$(rad/s)\", \"$q_1'$(rad/s)\", \"$q_4'$(rad/s)\", \"$q_{a_{1}}'$(rad/s)\", \"$q_{a_{2}}'$(rad/s)\"]\n",
        "    labr = ['$x_{\\mathrm{ref}}$', '$\\phi_{\\mathrm{ref}}$', '$q_{1\\mathrm{ref}}$', '$q_{4\\mathrm{ref}}$', \n",
        "            '$q_{a_{1}\\mathrm{ref}}$', '$q_{a_{2}\\mathrm{ref}}$']\n",
        "    # close()\n",
        "    lw =2\n",
        "    figsize(4,6)\n",
        "    figure('State')\n",
        "    for i in range(12):\n",
        "        subplot(4,3,i+1)\n",
        "        plot(t_,sol[:,i],'r',linewidth = lw)\n",
        "        if i<6:\n",
        "            plot(t_,refval[:,i],'g',linewidth = lw)\n",
        "            legend([lab[i],labr[i]],fontsize =12)\n",
        "        else: \n",
        "            legend([lab[i]],fontsize =12)\n",
        "        xlabel('t (sec)',fontsize = 12)\n",
        "        ylabel(laby[i],fontsize = 12)\n",
        "        tick_params(axis='both', labelsize=12)\n",
        "    subplots_adjust(hspace = 0.5,wspace= 0.25)\n",
        "    \n",
        "\n",
        "# error vs time\n",
        "    figure('Error'+str(np.random.rand(1,)[0]*10)) \n",
        "    for i in range(6):\n",
        "        plot(t_, sol[:, i] - refval[:, i], linewidth=lw, label=lab[i] + ' error')\n",
        "        legend(fontsize=10)\n",
        "        xlabel('t (sec)', fontsize=12)\n",
        "        ylabel('Error', fontsize=12)\n",
        "        tick_params(axis='both', labelsize=12)\n",
        "    title('Error vs Time')\n",
        "    subplots_adjust(hspace = 0.5,wspace= 0.25)\n",
        "    \n",
        "\n",
        "# torque vs time \n",
        "    figure('Torque') \n",
        "    lab = ['$T_l$', '$T_r$', '$T_m$', '$T_{a_{1}}$', '$T_{a_{2}}$']\n",
        "    for i in range(5):\n",
        "        subplot(6,1,i+1)\n",
        "        plot(t_,U[:,i],'b',linewidth=lw)\n",
        "        ylabel(lab[i]+' (N.m)',fontsize =12)\n",
        "        xlabel('t (sec)',fontsize = 12)\n",
        "        tick_params(axis='both', labelsize=12)\n",
        "    suptitle('Torque vs Time',fontsize=14,y=0.92)\n",
        "    subplots_adjust(hspace = 0.35,wspace= None)\n",
        "    if showG==1:\n",
        "        show() \n",
        "    else: close('all') \n"
      ]
    },
    {
      "cell_type": "code",
      "execution_count": 58,
      "metadata": {},
      "outputs": [],
      "source": [
        "def AnimePlotline(q,fig,ax,limx,limy):\n",
        "    points = robopoints(*q)\n",
        "    com = com_N(*q)\n",
        "    limit = np.array([points[0,2],points[0,6]-0.100,\n",
        "                      points[0,8],points[0,6]+0.100])\n",
        "    pnts1 = points[:,:4]\n",
        "    pnts2 = np.hstack((points[:,1:2],points[:,4:5]))\n",
        "    pnts3 = points[:,6:-1]\n",
        "    ax.plot(pnts1[0,:], pnts1[1,:], color='#28b34b', linewidth=4, zorder=2)\n",
        "    ax.plot(pnts2[0,:], pnts2[1,:], color='#28b34b', linewidth=4, zorder=2)\n",
        "    ax.plot(pnts3[0,:], pnts3[1,:], color='#28b34b', linewidth=4, zorder=2)\n",
        "    circle = plt.Circle((pnts1[0,0], pnts1[1,0]), 0.07, facecolor='#4a54a4', edgecolor='k')\n",
        "    squre = Rectangle((points[0,9], points[1,9]), 0.186, 0.186, angle=rad2deg(q[3]+q[5]+q[6]), \n",
        "                      facecolor='#4a54a4', edgecolor='k')\n",
        "    ax.add_patch(squre)\n",
        "    ax.add_artist(circle)\n",
        "    ax.scatter(pnts1[0,:], pnts1[1,:], facecolor='#4a54a4', edgecolor='#28b34b', zorder=3)\n",
        "    ax.scatter(pnts2[0,:], pnts2[1,:], facecolor='#4a54a4', edgecolor='#28b34b', zorder=3)\n",
        "    ax.scatter(pnts3[0,:], pnts3[1,:], facecolor='#4a54a4', edgecolor='#28b34b', zorder=3)\n",
        "    cm = np.round([com[0,0]-q[0], com[2,0]], 3)\n",
        "    ax.plot(com[0],com[2],'ro')\n",
        "    # ax.text(com[0,0]+0.15, com[2,0], f'COM: {cm[0],cm[1]}')\n",
        "    ax.text(pnts1[0,0]-0.08, pnts1[1,0]+0.09, f'COM: {cm[0]}',fontsize = 10,weight='bold')\n",
        "    ax.plot([-0.45, 2.5], [0, 0], 'k')\n",
        "\n",
        "    ax.set_xlim(limx)\n",
        "    ax.set_ylim(limy)\n",
        "    ax.set_aspect('equal')\n",
        "    ax.set_xlabel(r\"$x$(m)\",fontsize = 15)\n",
        "    ax.set_ylabel(r\"$z$(m)\",fontsize = 15)\n",
        "    ax.tick_params(axis='both', labelsize=16)\n",
        "    return fig, ax\n",
        "\n",
        "def Animeccc(q,fig,ax,limx=[-0.5,2.1],limy=[-0.2,0.9]):\n",
        "    q = q.reshape(-1,)\n",
        "    q = np.insert(q,1,0)\n",
        "    q = np.insert(q,4,fourbar(q[4])[:2])[:9]\n",
        "    return AnimePlotline(q,fig,ax,limx,limy)"
      ]
    },
    {
      "cell_type": "code",
      "execution_count": 59,
      "metadata": {},
      "outputs": [],
      "source": [
        "def QL2E(q):\n",
        "    q = np.insert(q,1,0)\n",
        "    q  = np.insert(q,4,fourbar(q[4])[:2])\n",
        "    return q\n",
        "def Xeff(sol):\n",
        "    xeff = []\n",
        "    for i in range(len(t_)):\n",
        "        xeff.append(Xefun(*QL2E(sol[i,:][:6])).reshape(-1,))\n",
        "    xeff = np.array(xeff)\n",
        "    return xeff"
      ]
    },
    {
      "cell_type": "markdown",
      "metadata": {},
      "source": [
        "# <center> End Effector LQR Results</center>"
      ]
    },
    {
      "cell_type": "markdown",
      "metadata": {},
      "source": [
        "## Linear Trajectory LQR"
      ]
    },
    {
      "cell_type": "code",
      "execution_count": 393,
      "metadata": {},
      "outputs": [],
      "source": [
        "## Total time \n",
        "tt = 3\n",
        "def cubicFit(path, times):\n",
        "    splines = []\n",
        "    for i in range(path.shape[1]):\n",
        "        state_data = path[:, i]\n",
        "        spline = CubicSpline(times, state_data)\n",
        "        splines.append(spline)\n",
        "    return splines\n",
        "tfit = np.linspace(0,tt,len(x_))\n",
        "fit = cubicFit(path, tfit)\n",
        "def ref(t,fit = fit):\n",
        "    if t>tfit[-1]:\n",
        "        t = tfit[-1]\n",
        "    state =  np.append(np.array([spline(t) for spline in fit]),  np.zeros((6,)) )\n",
        "    # state =  np.append(np.array([spline(t) for spline in fit]),  np.array([spline(t,1) for spline in fit]) )\n",
        "    return state\n"
      ]
    },
    {
      "cell_type": "code",
      "execution_count": 394,
      "metadata": {},
      "outputs": [],
      "source": [
        "xi = np.array([-0.2,  0,  0.7229,  3.78,  1.541, 0,\n",
        "               0,0,0,0,0,0])\n",
        "xi = np.append(path[0],np.zeros((6,)))\n",
        "t_ = np.linspace(0,3,300)\n",
        "cont = Controller(xi,ref,t_,Cmode = 'lqr')\n",
        "sol,refval,U=cont.runLQR()\n",
        "cont = Controller(xi,ref,t_,Cmode = 'mlqr')\n",
        "solm,refvalm,Um=cont.runLQR()\n",
        "plotlqr(solm,refvalm,Um,showG=1)"
      ]
    },
    {
      "cell_type": "code",
      "execution_count": 270,
      "metadata": {},
      "outputs": [
        {
          "data": {
            "image/png": "[encoded data removed]",
            "text/latex": [
              "$\\displaystyle \\left( 0.0, \\  0.9\\right)$"
            ],
            "text/plain": [
              "(0.0, 0.9)"
            ]
          },
          "execution_count": 270,
          "metadata": {},
          "output_type": "execute_result"
        }
      ],
      "source": [
        "xeff = Xeff(sol)\n",
        "xeffm = Xeff(solm)\n",
        "figsize(4,6)\n",
        "plot(xeff[:,0],xeff[:,2],'r')\n",
        "plot(xeffm[:,0],xeffm[:,2],'b')\n",
        "plot(state[0,:],state[2,:],'g')\n",
        "ylim([0,.9])"
      ]
    },
    {
      "cell_type": "code",
      "execution_count": 260,
      "metadata": {},
      "outputs": [],
      "source": [
        "fig, ax = plt.subplots()\n",
        "\n",
        "for i in [0, 72, 115, 160, 210, 290]:\n",
        "# for i in [0, 72, 100, 150, 200,285, 299]:\n",
        "    fig, ax = Animeccc(sol[i], fig, ax,limx=[-0.5,2.1])\n",
        "    ax.text(sol[i][0]-0.05, -0.05, f't = {np.round(t_[i],1)}s',\n",
        "            fontsize = 12)\n",
        "lw = 1\n",
        "ax.plot(xeff[:, 0], xeff[:, 2], 'r', linewidth=lw)\n",
        "ax.plot(x_, z_, 'b', linewidth=lw)\n",
        "actual_handle, = ax.plot([], [], 'r', linewidth=lw+1)\n",
        "reference_handle, = ax.plot([], [], 'b', linewidth=lw+1)\n",
        "actual_label = 'Actual EE trajectory'\n",
        "reference_label = 'Reference EE trajectory'\n",
        "ax.legend([actual_handle, reference_handle], [actual_label, reference_label])\n",
        "ax.set_title('Linear Cartesian EE Trajectory',fontsize = 16)\n",
        "show()"
      ]
    },
    {
      "cell_type": "code",
      "execution_count": 304,
      "metadata": {},
      "outputs": [],
      "source": [
        "fig, ax = plt.subplots()\n",
        "lw = 1\n",
        "for i in [200,299]:\n",
        "        fig, ax = Animeccc(sol[i], fig, ax,limx=[0,2.1])\n",
        "        ax.text(sol[i][0]-0.05, -0.05, f't = {np.round(t_[i],1)}s',fontsize = 12)\n",
        "        ax.text(sol[i][0]-0.05, -0.1, 'LQR',fontsize = 12)\n",
        "\n",
        "        fig, ax = Animeccc(solm[i], fig, ax,limx=[0,2.1])\n",
        "        ax.text(solm[i][0]-0.05, -0.05, f't = {np.round(t_[i],1)}s',fontsize = 12)\n",
        "        ax.text(solm[i][0]-0.05, -0.1, 'M-LQR',fontsize = 12)\n",
        "\n",
        "ax.plot(xeff[:, 0], xeff[:, 2], 'r--',linewidth=lw,)\n",
        "ax.plot(xeffm[:, 0], xeffm[:, 2], 'purple',linewidth=lw)\n",
        "ax.plot(x_, z_, 'b', linewidth=lw)\n",
        "\n",
        "lqr_handle, = ax.plot([], [], 'r--', linewidth=lw+1)\n",
        "mlqr_handle, = ax.plot([], [], 'purple', linewidth=lw+1)\n",
        "reference_handle, = ax.plot([], [], 'b', linewidth=lw+1)\n",
        "\n",
        "lqr_label = 'Trajectory following by LQR'\n",
        "mlqr_label = 'Trajectory following by M-LQR'\n",
        "reference_label = 'Reference EE trajectory'\n",
        "ax.legend([lqr_handle, mlqr_handle,  reference_handle], [lqr_label, mlqr_label, reference_label])\n",
        "ax.set_title('Linear Cartesian EE Trajectory',fontsize = 16)\n",
        "show()"
      ]
    },
    {
      "cell_type": "code",
      "execution_count": 76,
      "metadata": {},
      "outputs": [],
      "source": [
        "fig, ax = subplots()\n",
        "def update(frame, ax,fig):\n",
        "    ax.clear()\n",
        "    fig, ax = Animeccc(sol[frame], fig, ax)\n",
        "    ax.plot(xeff[:frame,0],xeff[:frame,2],'r')\n",
        "    ax.plot(x_,z_,'b')\n",
        "    ax.set_title('time (sec) {}'.format(round(t_[frame],2)))\n",
        "\n",
        "ani = animation.FuncAnimation(fig, update, frames=sol.shape[0], fargs=(ax,fig), interval=1)\n",
        "plt.show()"
      ]
    },
    {
      "cell_type": "markdown",
      "metadata": {},
      "source": [
        "## Sine Trajectory LQR"
      ]
    },
    {
      "cell_type": "code",
      "execution_count": 51,
      "metadata": {},
      "outputs": [],
      "source": [
        "## Total time \n",
        "tt = 5\n",
        "# tt=3\n",
        "def cubicFit(path, times):\n",
        "    splines = []\n",
        "    for i in range(path.shape[1]):\n",
        "        state_data = path[:, i]\n",
        "        spline = CubicSpline(times, state_data)\n",
        "        splines.append(spline)\n",
        "    return splines\n",
        "tfit = np.linspace(0,tt,len(x_))\n",
        "fit = cubicFit(path, tfit)\n",
        "def ref(t,fit = fit):\n",
        "    if t>tfit[-1]:\n",
        "        t = tfit[-1]\n",
        "    state =  np.append(np.array([spline(t) for spline in fit]),  np.zeros((6,)) )\n",
        "    return state\n"
      ]
    },
    {
      "cell_type": "code",
      "execution_count": 60,
      "metadata": {},
      "outputs": [],
      "source": [
        "xi = np.array([-0.2,  0,  0.7229,  3.78,  1.541, 0,\n",
        "               0,0,0,0,0,0])\n",
        "xi = np.append(path[0],np.zeros((6,)))\n",
        "t_ = np.linspace(0,5,300)\n",
        "cont = Controller(xi,ref,t_,Cmode = 'lqr')\n",
        "sol,refval,U=cont.runLQR()\n",
        "cont = Controller(xi,ref,t_,Cmode = 'mlqr')\n",
        "solm,refvalm,Um=cont.runLQR()\n",
        "plotlqr(solm,refvalm,Um,showG=1)"
      ]
    },
    {
      "cell_type": "code",
      "execution_count": 63,
      "metadata": {},
      "outputs": [
        {
          "data": {
            "image/png": "[encoded data removed]",
            "text/latex": [
              "$\\displaystyle \\left( 0.0, \\  0.9\\right)$"
            ],
            "text/plain": [
              "(0.0, 0.9)"
            ]
          },
          "execution_count": 63,
          "metadata": {},
          "output_type": "execute_result"
        }
      ],
      "source": [
        "xeff = Xeff(sol)\n",
        "xeffm = Xeff(solm)\n",
        "figsize(4,6)\n",
        "plot(xeff[:,0],xeff[:,2],'r',label='LQR')\n",
        "plot(xeffm[:,0],xeffm[:,2],'b',label='M-LQR')\n",
        "plot(state[0,:],state[2,:],'g',label='ref')\n",
        "legend(['LQR','M-LQR','Ref'])\n",
        "ylim([0,.9])"
      ]
    },
    {
      "cell_type": "code",
      "execution_count": 62,
      "metadata": {},
      "outputs": [],
      "source": [
        "fig, ax = plt.subplots()\n",
        "\n",
        "for i in [0, 72, 110, 140,180, 225, 299]:\n",
        "    fig, ax = Animeccc(sol[i], fig, ax)\n",
        "    ax.text(sol[i][0]-0.05, -0.05, f't = {np.round(t_[i],1)}s',\n",
        "            fontsize = 12)\n",
        "lw = 1\n",
        "ax.plot(xeff[:, 0], xeff[:, 2], 'r', linewidth=lw)\n",
        "ax.plot(x_, z_, 'b', linewidth=lw)\n",
        "actual_handle, = ax.plot([], [], 'r', linewidth=lw+1)\n",
        "reference_handle, = ax.plot([], [], 'b', linewidth=lw+1)\n",
        "actual_label = 'Actual EE trajectory'\n",
        "reference_label = 'Reference EE trajectory'\n",
        "ax.legend([actual_handle, reference_handle], [actual_label, reference_label])\n",
        "ax.set_title('Sinusoidal Cartesian EE Trajectory',fontsize = 16)\n",
        "show()"
      ]
    },
    {
      "cell_type": "code",
      "execution_count": 403,
      "metadata": {},
      "outputs": [],
      "source": [
        "fig, ax = plt.subplots()\n",
        "lw = 1\n",
        "for i in [200,299]:\n",
        "        fig, ax = Animeccc(sol[i], fig, ax,limx=[0,2.1])\n",
        "        ax.text(sol[i][0]-0.05, -0.05, f't = {np.round(t_[i],1)}s',fontsize = 12)\n",
        "        ax.text(sol[i][0]-0.05, -0.1, 'LQR',fontsize = 12)\n",
        "\n",
        "        fig, ax = Animeccc(solm[i], fig, ax,limx=[0,2.1])\n",
        "        ax.text(solm[i][0]-0.05, -0.05, f't = {np.round(t_[i],1)}s',fontsize = 12)\n",
        "        ax.text(solm[i][0]-0.05, -0.1, 'M-LQR',fontsize = 12)\n",
        "\n",
        "ax.plot(xeff[:, 0], xeff[:, 2], 'r--',linewidth=lw,)\n",
        "ax.plot(xeffm[:, 0], xeffm[:, 2], 'purple',linewidth=lw)\n",
        "ax.plot(x_, z_, 'b', linewidth=lw)\n",
        "\n",
        "lqr_handle, = ax.plot([], [], 'r--', linewidth=lw+1)\n",
        "mlqr_handle, = ax.plot([], [], 'purple', linewidth=lw+1)\n",
        "reference_handle, = ax.plot([], [], 'b', linewidth=lw+1)\n",
        "\n",
        "lqr_label = 'Trajectory following by LQR'\n",
        "mlqr_label = 'Trajectory following by M-LQR'\n",
        "reference_label = 'Reference EE trajectory'\n",
        "ax.legend([lqr_handle, mlqr_handle,  reference_handle], [lqr_label, mlqr_label, reference_label])\n",
        "ax.set_title('Sinusoidal Cartesian EE Trajectory',fontsize = 16)\n",
        "show()"
      ]
    },
    {
      "cell_type": "code",
      "execution_count": 209,
      "metadata": {},
      "outputs": [],
      "source": [
        "fig, ax = subplots()\n",
        "def update(frame, ax,fig):\n",
        "    ax.clear()\n",
        "    fig, ax = Animeccc(sol[frame], fig, ax)\n",
        "    ax.plot(xeff[:frame,0],xeff[:frame,2],'r')\n",
        "    ax.plot(x_,z_,'b')\n",
        "    ax.set_title('time (sec) {}'.format(round(t_[frame],2)))\n",
        "\n",
        "ani = animation.FuncAnimation(fig, update, frames=sol.shape[0], fargs=(ax,fig), interval=1)\n",
        "plt.show()"
      ]
    },
    {
      "cell_type": "markdown",
      "metadata": {},
      "source": [
        "## Tringular Trajectory LQR"
      ]
    },
    {
      "cell_type": "code",
      "execution_count": 34,
      "metadata": {},
      "outputs": [],
      "source": [
        "## Total time \n",
        "tt = 6\n",
        "def cubicFit(path, times):\n",
        "    splines = []\n",
        "    for i in range(path.shape[1]):\n",
        "        state_data = path[:, i]\n",
        "        spline = CubicSpline(times, state_data)\n",
        "        splines.append(spline)\n",
        "    return splines\n",
        "tfit = np.linspace(0,tt,len(x_))\n",
        "fit = cubicFit(path, tfit)\n",
        "def ref(t,fit = fit):\n",
        "    if t>tfit[-1]:\n",
        "        t = tfit[-1]\n",
        "    state =  np.append(np.array([spline(t) for spline in fit]),  np.zeros((6,)) )\n",
        "    return state\n"
      ]
    },
    {
      "cell_type": "code",
      "execution_count": 37,
      "metadata": {},
      "outputs": [],
      "source": [
        "xi = np.array([-0.2,  0,  0.7229,  3.78,  1.541, 0,\n",
        "               0,0,0,0,0,0])\n",
        "xi = np.append(path[0],np.zeros((6,)))\n",
        "t_ = np.linspace(0,6,300)\n",
        "cont = Controller(xi,ref,t_,Cmode = 'lqr')\n",
        "sol,refval,U=cont.runLQR()\n",
        "cont = Controller(xi,ref,t_,Cmode = 'mlqr')\n",
        "solm,refvalm,Um=cont.runLQR()\n",
        "plotlqr(solm,refvalm,Um,showG=1)"
      ]
    },
    {
      "cell_type": "code",
      "execution_count": 39,
      "metadata": {},
      "outputs": [
        {
          "data": {
            "image/png": "[encoded data removed]",
            "text/latex": [
              "$\\displaystyle \\left( 0.0, \\  0.9\\right)$"
            ],
            "text/plain": [
              "(0.0, 0.9)"
            ]
          },
          "execution_count": 39,
          "metadata": {},
          "output_type": "execute_result"
        }
      ],
      "source": [
        "xeff = Xeff(sol)\n",
        "xeffm = Xeff(solm)\n",
        "figsize(4,6)\n",
        "plot(xeff[:,0],xeff[:,2],'r',label='LQR')\n",
        "plot(xeffm[:,0],xeffm[:,2],'b',label='M-LQR')\n",
        "plot(state[0,:],state[2,:],'g',label='ref')\n",
        "legend(['LQR','M-LQR','Ref'])\n",
        "ylim([0,.9])"
      ]
    },
    {
      "cell_type": "code",
      "execution_count": 329,
      "metadata": {},
      "outputs": [],
      "source": [
        "fig, ax = plt.subplots()\n",
        "\n",
        "for i in [0, 72, 110, 140,180, 225, 299]:\n",
        "    fig, ax = Animeccc(sol[i], fig, ax)\n",
        "    ax.text(sol[i][0]-0.05, -0.05, f't = {np.round(t_[i],1)}s',\n",
        "            fontsize = 12)\n",
        "lw = 1\n",
        "ax.plot(xeff[:, 0], xeff[:, 2], 'r', linewidth=lw)\n",
        "ax.plot(x_, z_, 'b', linewidth=lw)\n",
        "actual_handle, = ax.plot([], [], 'r', linewidth=lw+1)\n",
        "reference_handle, = ax.plot([], [], 'b', linewidth=lw+1)\n",
        "actual_label = 'Actual EE trajectory'\n",
        "reference_label = 'Reference EE trajectory'\n",
        "ax.legend([actual_handle, reference_handle], [actual_label, reference_label])\n",
        "ax.set_title('Triangular Cartesian EE Trajectory',fontsize = 16)\n",
        "show()"
      ]
    },
    {
      "cell_type": "code",
      "execution_count": 331,
      "metadata": {},
      "outputs": [],
      "source": [
        "fig, ax = plt.subplots()\n",
        "lw = 1\n",
        "for i in [210,299]:\n",
        "        fig, ax = Animeccc(sol[i], fig, ax,limx=[0,2.1])\n",
        "        ax.text(sol[i][0]-0.05, -0.05, f't = {np.round(t_[i],1)}s',fontsize = 12)\n",
        "        ax.text(sol[i][0]-0.05, -0.1, 'LQR',fontsize = 12)\n",
        "\n",
        "        fig, ax = Animeccc(solm[i], fig, ax,limx=[0,2.1])\n",
        "        ax.text(solm[i][0]-0.05, -0.05, f't = {np.round(t_[i],1)}s',fontsize = 12)\n",
        "        ax.text(solm[i][0]-0.05, -0.1, 'M-LQR',fontsize = 12)\n",
        "\n",
        "ax.plot(xeff[:, 0], xeff[:, 2], 'r--',linewidth=lw,)\n",
        "ax.plot(xeffm[:, 0], xeffm[:, 2], 'purple',linewidth=lw)\n",
        "ax.plot(x_, z_, 'b', linewidth=lw)\n",
        "\n",
        "lqr_handle, = ax.plot([], [], 'r--', linewidth=lw+1)\n",
        "mlqr_handle, = ax.plot([], [], 'purple', linewidth=lw+1)\n",
        "reference_handle, = ax.plot([], [], 'b', linewidth=lw+1)\n",
        "\n",
        "lqr_label = 'Trajectory following by LQR'\n",
        "mlqr_label = 'Trajectory following by M-LQR'\n",
        "reference_label = 'Reference EE trajectory'\n",
        "ax.legend([lqr_handle, mlqr_handle,  reference_handle], [lqr_label, mlqr_label, reference_label])\n",
        "ax.set_title('Triangular Cartesian EE Trajectory',fontsize = 16)\n",
        "show()"
      ]
    },
    {
      "cell_type": "code",
      "execution_count": 231,
      "metadata": {},
      "outputs": [],
      "source": [
        "fig, ax = subplots()\n",
        "def update(frame, ax,fig):\n",
        "    ax.clear()\n",
        "    fig, ax = Animeccc(sol[frame], fig, ax)\n",
        "    ax.plot(xeff[:frame,0],xeff[:frame,2],'r')\n",
        "    ax.plot(x_,z_,'b')\n",
        "    ax.set_title('time (sec) {}'.format(round(t_[frame],2)))\n",
        "\n",
        "ani = animation.FuncAnimation(fig, update, frames=sol.shape[0], fargs=(ax,fig), interval=1)\n",
        "plt.show()"
      ]
    },
    {
      "cell_type": "markdown",
      "metadata": {},
      "source": [
        "## Elliptical Trajectory LQR"
      ]
    },
    {
      "cell_type": "code",
      "execution_count": 63,
      "metadata": {},
      "outputs": [],
      "source": [
        "## Total time \n",
        "tt = 6\n",
        "tt = 6\n",
        "def cubicFit(path, times):\n",
        "    splines = []\n",
        "    for i in range(path.shape[1]):\n",
        "        state_data = path[:, i]\n",
        "        spline = CubicSpline(times, state_data)\n",
        "        splines.append(spline)\n",
        "    return splines\n",
        "tfit = np.linspace(0,tt,len(x_))\n",
        "fit = cubicFit(path, tfit)\n",
        "def ref(t,fit = fit):\n",
        "    if t>tfit[-1]:\n",
        "        t = tfit[-1]\n",
        "    state =  np.append(np.array([spline(t) for spline in fit]),  np.zeros((6,)) )\n",
        "    # state =  np.append(np.array([spline(t) for spline in fit]),  \n",
        "    #                    np.array([spline(t,1) for spline in fit])\n",
        "    #                     )\n",
        "    return state\n"
      ]
    },
    {
      "cell_type": "code",
      "execution_count": 61,
      "metadata": {},
      "outputs": [],
      "source": [
        "xi = np.array([-0.2,  0,  0.7229,  3.78,  1.541, 0,\n",
        "               0,0,0,0,0,0])\n",
        "xi = np.append(path[0],np.zeros((6,)))\n",
        "t_ = np.linspace(0,6,300)\n",
        "cont = Controller(xi,ref,t_,Cmode = 'lqr')\n",
        "sol,refval,U=cont.runLQR()\n",
        "# plotlqr(sol,refval,U,showG=1)\n",
        "\n",
        "cont = Controller(xi,ref,t_,Cmode = 'mlqr')\n",
        "solm,refvalm,Um=cont.runLQR()\n",
        "plotlqr(solm,refvalm,Um,showG=0)"
      ]
    },
    {
      "cell_type": "code",
      "execution_count": 65,
      "metadata": {},
      "outputs": [
        {
          "data": {
            "image/png": "[encoded data removed]",
            "text/latex": [
              "$\\displaystyle \\left( -0.0798482333547722, \\  0.641907030742917, \\  0.330751411538533, \\  0.769248588461467\\right)$"
            ],
            "text/plain": [
              "(-0.0798482333547722, 0.6419070307429171, 0.3307514115385327, 0.76924858846146\n",
              "74)"
            ]
          },
          "execution_count": 65,
          "metadata": {},
          "output_type": "execute_result"
        }
      ],
      "source": [
        "xeff = Xeff(sol)\n",
        "xeffm = Xeff(solm)\n",
        "figsize(4,6)\n",
        "plot(xeff[:,0],xeff[:,2],'r',label='LQR')\n",
        "plot(xeffm[:,0],xeffm[:,2],'b',label='M-LQR')\n",
        "plot(state[0,:],state[2,:],'g',label='ref')\n",
        "legend(['LQR','M-LQR','Ref'])\n",
        "ylim([0,.9])\n",
        "axis('equal')"
      ]
    },
    {
      "cell_type": "code",
      "execution_count": 388,
      "metadata": {},
      "outputs": [],
      "source": [
        "fig, ax = plt.subplots()\n",
        "\n",
        "# for i in [0, 72, 110, 140,180, 225, 299]:\n",
        "for i in [0,  150,  185]:\n",
        "    fig, ax = Animeccc(sol[i], fig, ax,limx=[-0.3,0.7])\n",
        "    ax.text(sol[i][0]-0.05, -0.05, f't = {np.round(t_[i],1)}s',\n",
        "            fontsize = 12)\n",
        "lw = 1\n",
        "ax.plot(xeff[:, 0], xeff[:, 2], 'r', linewidth=lw)\n",
        "ax.plot(x_, z_, 'b', linewidth=lw)\n",
        "actual_handle, = ax.plot([], [], 'r', linewidth=lw+1)\n",
        "reference_handle, = ax.plot([], [], 'b', linewidth=lw+1)\n",
        "actual_label = 'Actual EE trajectory'\n",
        "reference_label = 'Reference EE trajectory'\n",
        "ax.legend([actual_handle, reference_handle], [actual_label, reference_label])\n",
        "ax.set_title('Elliptical Cartesian EE Trajectory',fontsize = 16)\n",
        "show()"
      ]
    },
    {
      "cell_type": "code",
      "execution_count": 389,
      "metadata": {},
      "outputs": [],
      "source": [
        "fig, ax = plt.subplots()\n",
        "lw = 1\n",
        "ofs= [0, 0.05]\n",
        "j=0\n",
        "for i in [210,299]:\n",
        "        fig, ax = Animeccc(sol[i], fig, ax,limx=[-0.4,0.6])\n",
        "        ax.text(sol[i][0]-0.05-ofs[j], -0.05, f't = {np.round(t_[i],1)}s',fontsize = 12)\n",
        "        ax.text(sol[i][0]-0.05-ofs[j], -0.1, 'LQR',fontsize = 12)\n",
        "\n",
        "        fig, ax = Animeccc(solm[i], fig, ax,limx=[-0.4,0.7])\n",
        "        ax.text(solm[i][0]-0.05+ofs[j], -0.05, f't = {np.round(t_[i],1)}s',fontsize = 12)\n",
        "        ax.text(solm[i][0]-0.05+ofs[j], -0.1, 'M-LQR',fontsize = 12)\n",
        "        j=j+1\n",
        "\n",
        "ax.plot(xeff[:, 0], xeff[:, 2], 'r--',linewidth=lw,)\n",
        "ax.plot(xeffm[:, 0], xeffm[:, 2], 'purple',linewidth=lw)\n",
        "ax.plot(x_, z_, 'b', linewidth=lw)\n",
        "\n",
        "lqr_handle, = ax.plot([], [], 'r--', linewidth=lw+1)\n",
        "mlqr_handle, = ax.plot([], [], 'purple', linewidth=lw+1)\n",
        "reference_handle, = ax.plot([], [], 'b', linewidth=lw+1)\n",
        "\n",
        "lqr_label = 'Trajectory following by LQR'\n",
        "mlqr_label = 'Trajectory following by M-LQR'\n",
        "reference_label = 'Reference EE trajectory'\n",
        "ax.legend([lqr_handle, mlqr_handle,  reference_handle], [lqr_label, mlqr_label, reference_label])\n",
        "ax.set_title('Elliptical Cartesian EE Trajectory',fontsize = 16)\n",
        "show()"
      ]
    },
    {
      "cell_type": "code",
      "execution_count": 349,
      "metadata": {},
      "outputs": [],
      "source": [
        "fig, ax = subplots()\n",
        "def update(frame, ax,fig):\n",
        "    ax.clear()\n",
        "    fig, ax = Animeccc(sol[frame], fig, ax)\n",
        "    fig, ax = Animeccc(solm[frame], fig, ax)\n",
        "    ax.plot(xeff[:frame,0],xeff[:frame,2],'r')\n",
        "    ax.plot(xeffm[:frame,0],xeffm[:frame,2],'b--')\n",
        "    ax.plot(x_,z_,'y')\n",
        "    ax.set_title('time (sec) {}'.format(round(t_[frame],2)))\n",
        "\n",
        "ani = animation.FuncAnimation(fig, update, frames=sol.shape[0], fargs=(ax,fig), interval=1)\n",
        "plt.show()"
      ]
    },
    {
      "cell_type": "markdown",
      "metadata": {},
      "source": [
        "## Stablity Analysis"
      ]
    },
    {
      "cell_type": "code",
      "execution_count": 110,
      "metadata": {},
      "outputs": [],
      "source": [
        "def plotline(q):\n",
        "    fig, ax = plt.subplots()\n",
        "    points = robopoints(*q)\n",
        "    com = com_N(*q)\n",
        "    limit = np.array([points[0,2],points[0,6]-0.100,\n",
        "                      points[0,8],points[0,6]+0.100])\n",
        "    pnts1 = points[:,:4]\n",
        "    pnts2 = np.hstack((points[:,1:2],points[:,4:5]))\n",
        "    pnts3 = points[:,6:-1]\n",
        "    ax.plot(pnts1[0,:], pnts1[1,:], color='#28b34b', linewidth=4, zorder=2)\n",
        "    ax.plot(pnts2[0,:], pnts2[1,:], color='#28b34b', linewidth=4, zorder=2)\n",
        "    ax.plot(pnts3[0,:], pnts3[1,:], color='#28b34b', linewidth=4, zorder=2)\n",
        "    circle = plt.Circle((pnts1[0,0], pnts1[1,0]), 0.07, facecolor='#4a54a4', edgecolor='k')\n",
        "    squre = Rectangle((points[0,9], points[1,9]), 0.186, 0.186, angle=rad2deg(q[3]+q[5]+q[6]), \n",
        "                      facecolor='#4a54a4', edgecolor='k')\n",
        "    ax.add_patch(squre)\n",
        "    ax.add_artist(circle)\n",
        "    ax.scatter(pnts1[0,:], pnts1[1,:], facecolor='#4a54a4', edgecolor='#28b34b', zorder=3)\n",
        "    ax.scatter(pnts2[0,:], pnts2[1,:], facecolor='#4a54a4', edgecolor='#28b34b', zorder=3)\n",
        "    ax.scatter(pnts3[0,:], pnts3[1,:], facecolor='#4a54a4', edgecolor='#28b34b', zorder=3)\n",
        "    cm = np.round([com[0,0]-q[0], com[2,0]], 3)\n",
        "    ax.plot([-0.3, 0.8], [0, 0], 'k')\n",
        "    ax.text(pnts1[0,0]-0.08, pnts1[1,0]+0.09, f'COM: {cm[0]}',fontsize = 15,weight='bold')\n",
        "    ax.set_ylim([-0.05, 0.95])\n",
        "    # ax.set_xlim([min(limit)-0.01, max(limit)+0.01])\n",
        "    ax.set_aspect('equal')\n",
        "    ax.set_xlabel(r\"$x$(m)\",fontsize = 15)\n",
        "    ax.set_ylabel(r\"$z$(m)\",fontsize = 15)\n",
        "    ax.tick_params(axis='both', labelsize=15)\n",
        "    return fig, ax\n",
        "def ccc(q):\n",
        "    # rcParams['figure.figsize'] = (6,4)\n",
        "    q = q.reshape(-1,)\n",
        "    q = np.insert(q,1,0)\n",
        "    q = np.insert(q,4,fourbar(q[4])[:2])[:9]\n",
        "    # print(q)\n",
        "    cm = com_N(*q)\n",
        "    fig, ax = plotline(q)\n",
        "    plot(cm[0],cm[2],'ro')\n",
        "    # print(cm)\n",
        "    return fig,ax"
      ]
    },
    {
      "cell_type": "code",
      "execution_count": 23,
      "metadata": {},
      "outputs": [
        {
          "name": "stdout",
          "output_type": "stream",
          "text": [
            "[8.43547454e-13 0.00000000e+00 3.51504913e-01]\n"
          ]
        },
        {
          "data": {
            "image/png": "[encoded data removed]",
            "text/plain": [
              "<Figure size 600x400 with 1 Axes>"
            ]
          },
          "metadata": {},
          "output_type": "display_data"
        }
      ],
      "source": [
        "xi = np.array([ 0, -0.        ,  0.54856415,  3.73360672,  2.20638398,\n",
        "                1.32402397, 0.00000000e+00, 0.00000000e+00,\n",
        "                0.00000000e+00, 0.00000000e+00, 0.00000000e+00, 0.00000000e+00])\n",
        "ccc(x0)\n"
      ]
    },
    {
      "cell_type": "code",
      "execution_count": 24,
      "metadata": {},
      "outputs": [
        {
          "name": "stdout",
          "output_type": "stream",
          "text": [
            "[0.11836787 0.         0.30254058]\n"
          ]
        }
      ],
      "source": [
        "# close()\n",
        "%matplotlib qt\n",
        "## example 1 for stablity\n",
        "xi = np.array([ 0, -0.        ,  0.54856415,  3.73360672,  2.20638398,\n",
        "                1.32402397, 0.00000000e+00, 0.00000000e+00,\n",
        "                0.00000000e+00, 0.00000000e+00, 0.00000000e+00, 0.00000000e+00])\n",
        "## example 2 for stablity \n",
        "xi = np.array([ 0, -0.        ,  0.17,  3.73360672,  2.20638398,\n",
        "                1.32402397, 0.00000000e+00, 0.00000000e+00,\n",
        "                0.00000000e+00, 0.00000000e+00, 0.00000000e+00, 0.00000000e+00])\n",
        "ccc(xi)\n"
      ]
    },
    {
      "cell_type": "code",
      "execution_count": 28,
      "metadata": {},
      "outputs": [],
      "source": [
        "def ref(t):\n",
        "    xf = np.array([-1.11197892e-15,  0.00000000e+00,  8.72664626e-01,  3.96335810e+00,\n",
        "                    1.44418378e+00,  2.18311813e-01,  0.00000000e+00,  0.00000000e+00,\n",
        "                    0.00000000e+00,  0.00000000e+00,  0.00000000e+00,  0.00000000e+00])\n",
        "    return x0\n",
        "close('all')\n",
        "Q = np.diag([100,100,100,100,10,10,\n",
        "             1,1,1,1,1,1])\n",
        "R = np.diag([50,50,50,100,100])\n",
        "t_ = np.linspace(0,12,1000)\n",
        "t_ = np.linspace(0,3,300)\n",
        "cont = Controller(xi,ref,t_,Q=Q,R=R)\n",
        "sol,refval,U=cont.runLQR()\n",
        "plotlqr(sol,refval,U)"
      ]
    },
    {
      "cell_type": "code",
      "execution_count": 36,
      "metadata": {},
      "outputs": [],
      "source": [
        "xi = np.array([ 0, -0.        ,  1.11856415,  3.83360672,  2.20638398,\n",
        "                1.32402397, 0.00000000e+00, 0.00000000e+00,\n",
        "                0.00000000e+00, 0.00000000e+00, 0.00000000e+00, 0.00000000e+00])\n",
        "\n",
        "def ref(t):\n",
        "    xf = np.array([-1.11197892e-15,  0.00000000e+00,  8.72664626e-01,  3.96335810e+00,\n",
        "                    1.44418378e+00,  2.18311813e-01,  0.00000000e+00,  0.00000000e+00,\n",
        "                    0.00000000e+00,  0.00000000e+00,  0.00000000e+00,  0.00000000e+00])\n",
        "    \n",
        "    return xf\n",
        "Q = np.diag([100,100,100,100,10,10,\n",
        "             1,1,1,1,1,1])\n",
        "R = np.diag([50,50,50,100,100])\n",
        "t_ = np.linspace(0,12,1000)\n",
        "t_ = np.linspace(0,4,300)\n",
        "cont = Controller(xi,ref,t_,Q=Q,R=R)\n",
        "sol,refval,U=cont.runLQR()\n",
        "\n",
        "rcParams['figure.figsize']= (18,12)\n",
        "lab = ['$x$', '$\\phi$', '$q_1$', '$q_4$', '$q_{a_{1}}$', '$q_{a_{2}}$', \"$x'$\", \"$\\phi'$\", \"$q_1'$\", \n",
        "       \"$q_4'$\", \"$q_{a_{1}}'$\", \"$q_{a_{2}}'$\"]\n",
        "laby = ['$x(m)$', '$\\phi(rad)$', '$q_1(rad)$', '$q_4(rad)$', '$q_{a_{1}}(rad)$', '$q_{a_{2}}(rad)$', \n",
        "        \"$x'$(m/s)\", \"$\\phi'$(rad/s)\", \"$q_1'$(rad/s)\", \"$q_4'$(rad/s)\", \"$q_{a_{1}}'$(rad/s)\", \"$q_{a_{2}}'$(rad/s)\"]\n",
        "labr = ['$x_{\\mathrm{ref}}$', '$\\phi_{\\mathrm{ref}}$', '$q_{1\\mathrm{ref}}$', '$q_{4\\mathrm{ref}}$', \n",
        "        '$q_{a_{1}\\mathrm{ref}}$', '$q_{a_{2}\\mathrm{ref}}$']\n",
        "close()\n",
        "lw =2\n",
        "for i in range(12):\n",
        "    subplot(4,3,i+1)\n",
        "    plot(t_,sol[:,i],'r',linewidth = lw)\n",
        "    if i<6:\n",
        "        plot(t_,refval[:,i],'g',linewidth = lw)\n",
        "        legend([lab[i],labr[i]],fontsize =12)\n",
        "    else: \n",
        "        legend([lab[i]],fontsize =12)\n",
        "    xlabel('t (sec)',fontsize = 12)\n",
        "    ylabel(laby[i],fontsize = 12)\n",
        "    tick_params(axis='both', labelsize=12)\n",
        "subplots_adjust(hspace = 0.5,wspace= 0.25)\n",
        "show()\n"
      ]
    },
    {
      "cell_type": "code",
      "execution_count": 37,
      "metadata": {},
      "outputs": [],
      "source": [
        "lab = ['$T_l$', '$T_r$', '$T_m$', '$T_{a_{1}}$', '$T_{a_{2}}$']\n",
        "close()\n",
        "for i in range(5):\n",
        "    subplot(3,2,i+1)\n",
        "    plot(t_,U[:,i],'b',linewidth=lw)\n",
        "    ylabel(lab[i]+' (N.m)',fontsize =12)\n",
        "    xlabel('t (sec)',fontsize = 12)\n",
        "    tick_params(axis='both', labelsize=12)\n",
        "subplots_adjust(hspace = 0.35,wspace= None)\n",
        "show()"
      ]
    },
    {
      "cell_type": "code",
      "execution_count": 38,
      "metadata": {},
      "outputs": [],
      "source": [
        "# figsize(12,18)\n",
        "# for i in [0, 5, 10, 15, 30, 50, 200, 299]:\n",
        "#     ccc(sol[i])\n",
        "#     savefig(\"C:\\\\Users\\\\pkver\\\\Desktop\\\\Thesis\\\\Tracking\\\\fig_{}.png\".format(i))\n",
        "#     close()"
      ]
    },
    {
      "cell_type": "markdown",
      "metadata": {},
      "source": [
        "## Animation"
      ]
    },
    {
      "cell_type": "code",
      "execution_count": 39,
      "metadata": {},
      "outputs": [],
      "source": [
        "import matplotlib.animation as animation\n",
        "%matplotlib qt\n",
        "fig, ax = subplots()\n",
        "def update(frame, ax,fig):\n",
        "    ax.clear()\n",
        "    fig, ax = Animeccc(sol[frame], fig, ax)\n",
        "    # ax.plot(xeff[:frame,0],xeff[:frame,2],'r')\n",
        "    ax.set_title('time (sec) {}'.format(round(t_[frame],2)))\n",
        "\n",
        "ani = animation.FuncAnimation(fig, update, frames=sol.shape[0], fargs=(ax,fig), interval=1)\n",
        "plt.show()"
      ]
    },
    {
      "cell_type": "markdown",
      "metadata": {},
      "source": [
        "## Stearing Analysis"
      ]
    },
    {
      "cell_type": "markdown",
      "metadata": {},
      "source": [
        "### reference trajectory\n"
      ]
    },
    {
      "cell_type": "code",
      "execution_count": 40,
      "metadata": {},
      "outputs": [],
      "source": [
        "## example 1 sinusoidal\n",
        "def ref(t):\n",
        "    phir = np.sin(t)*np.pi\n",
        "    xf =x0.copy()\n",
        "    xf[1] = phir\n",
        "    return xf\n",
        "\n",
        "## example 2 Circular\n",
        "def ref(t,T=12):\n",
        "    r=3\n",
        "    phir = 2*np.pi*t/T\n",
        "    xr = 2*np.pi*r*t/T\n",
        "    xf =x0.copy()\n",
        "    xf[0] = xr\n",
        "    xf[1] = phir\n",
        "    return xf\n"
      ]
    },
    {
      "cell_type": "markdown",
      "metadata": {},
      "source": [
        "### STATE"
      ]
    },
    {
      "cell_type": "code",
      "execution_count": 43,
      "metadata": {},
      "outputs": [],
      "source": [
        "xi = np.array([-4.33869546e-15,  0.00000000e+00,  8.72664626e-01,  3.96378377e+00,\n",
        "                1.49742777e+00,  5.13132172e-02,  0.00000000e+00,  0.00000000e+00,\n",
        "                0.00000000e+00,  0.00000000e+00,  0.00000000e+00,  0.00000000e+00])\n",
        "\n",
        "\n",
        "Q = np.diag([100,100,100,100,10,10,\n",
        "             1,1,1,1,1,1])\n",
        "R = np.diag([50,50,50,100,100])\n",
        "t_ = np.linspace(0,15,1000)\n",
        "# Q=Q,R=R\n",
        "cont = Controller(x0,ref,t_,\n",
        "                  Q=Q,R=R,\n",
        "                  )\n",
        "sol,refval,U=cont.runLQR()\n",
        "\n",
        "rcParams['figure.figsize']= (18,12)\n",
        "lab = ['$x$', '$\\phi$', '$q_1$', '$q_4$', '$q_{a_{1}}$', '$q_{a_{2}}$', \"$x'$\", \"$\\phi'$\", \"$q_1'$\", \n",
        "       \"$q_4'$\", \"$q_{a_{1}}'$\", \"$q_{a_{2}}'$\"]\n",
        "laby = ['$x(m)$', '$\\phi(rad)$', '$q_1(rad)$', '$q_4(rad)$', '$q_{a_{1}}(rad)$', '$q_{a_{2}}(rad)$', \n",
        "        \"$x'$(m/s)\", \"$\\phi'$(rad/s)\", \"$q_1'$(rad/s)\", \"$q_4'$(rad/s)\", \"$q_{a_{1}}'$(rad/s)\", \"$q_{a_{2}}'$(rad/s)\"]\n",
        "labr = ['$x_{\\mathrm{ref}}$', '$\\phi_{\\mathrm{ref}}$', '$q_{1\\mathrm{ref}}$', '$q_{4\\mathrm{ref}}$', \n",
        "        '$q_{a_{1}\\mathrm{ref}}$', '$q_{a_{2}\\mathrm{ref}}$']\n",
        "close()\n",
        "figure()\n",
        "lw =2\n",
        "for i in range(12):\n",
        "    subplot(4,3,i+1)\n",
        "    plot(t_,sol[:,i],'r',linewidth = lw)\n",
        "    if i<6:\n",
        "        plot(t_,refval[:,i],'g',linewidth = lw)\n",
        "        legend([lab[i],labr[i]],fontsize =10)\n",
        "    else: \n",
        "        legend([lab[i]],fontsize =12)\n",
        "    xlabel('t (sec)',fontsize = 12)\n",
        "    ylabel(laby[i],fontsize = 12)\n",
        "    tick_params(axis='both', labelsize=12)\n",
        "subplots_adjust(hspace = 0.5,wspace= 0.25)\n",
        "show()"
      ]
    },
    {
      "cell_type": "markdown",
      "metadata": {},
      "source": [
        "### ERROR"
      ]
    },
    {
      "cell_type": "code",
      "execution_count": 44,
      "metadata": {},
      "outputs": [],
      "source": [
        "# rcParams['figure.figsize']= (18,12)\n",
        "lab = ['$x$', '$\\phi$', '$q_1$', '$q_4$', '$q_{a_{1}}$', '$q_{a_{2}}$', \"$x'$\", \"$\\phi'$\", \"$q_1'$\", \n",
        "       \"$q_4'$\", \"$q_{a_{1}}'$\", \"$q_{a_{2}}'$\"]\n",
        "laby = ['$x(m)$', '$\\phi(rad)$', '$q_1(rad)$', '$q_4(rad)$', '$q_{a_{1}}(rad)$', '$q_{a_{2}}(rad)$', \n",
        "        \"$x'$(m/s)\", \"$\\phi'$(rad/s)\", \"$q_1'$(rad/s)\", \"$q_4'$(rad/s)\", \"$q_{a_{1}}'$(rad/s)\", \"$q_{a_{2}}'$(rad/s)\"]\n",
        "labr = ['$x_{\\mathrm{ref}}$', '$\\phi_{\\mathrm{ref}}$', '$q_{1\\mathrm{ref}}$', '$q_{4\\mathrm{ref}}$', \n",
        "        '$q_{a_{1}\\mathrm{ref}}$', '$q_{a_{2}\\mathrm{ref}}$']\n",
        "close()\n",
        "figure()\n",
        "lw =2\n",
        "\n",
        "for i in range(6):\n",
        "    plot(t_, sol[:, i] - refval[:, i], linewidth=lw, label=lab[i] + ' error')\n",
        "    legend(fontsize=10)\n",
        "    xlabel('t (sec)', fontsize=12)\n",
        "    ylabel('Error', fontsize=12)\n",
        "    tick_params(axis='both', labelsize=12)\n",
        "title('Error vs Time')\n",
        "subplots_adjust(hspace = 0.5,wspace= 0.25)\n",
        "show()\n",
        "# savefig(\"C:\\\\Users\\\\pkver\\\\Desktop\\\\Thesis\\\\Tracking\\\\steering Analysis error exp2.png\")\n",
        "# close()"
      ]
    },
    {
      "cell_type": "code",
      "execution_count": 45,
      "metadata": {},
      "outputs": [],
      "source": [
        "import matplotlib.pyplot as plt\n",
        "\n",
        "for i in range(6):\n",
        "\n",
        "    plt.plot(t_, sol[:, i] - refval[:, i], linewidth=lw, label=lab[i] + ' error')\n",
        "    plt.legend(fontsize=10)\n",
        "    plt.xlabel('t (sec)', fontsize=12)\n",
        "    plt.ylabel('Error', fontsize=12)\n",
        "    plt.tick_params(axis='both', labelsize=12)\n",
        "\n",
        "plt.show()\n"
      ]
    },
    {
      "cell_type": "markdown",
      "metadata": {},
      "source": [
        "### TORQUE"
      ]
    },
    {
      "cell_type": "code",
      "execution_count": 46,
      "metadata": {},
      "outputs": [],
      "source": [
        "lab = ['$T_l$', '$T_r$', '$T_m$', '$T_{a_{1}}$', '$T_{a_{2}}$']\n",
        "close()\n",
        "for i in range(5):\n",
        "    subplot(5,1,i+1)\n",
        "    plot(t_,U[:,i],'b',linewidth=lw)\n",
        "    ylabel(lab[i]+' (N.m)',fontsize =12)\n",
        "    tick_params(axis='both', labelsize=12)\n",
        "subplots_adjust(hspace = 0.5,wspace= None)\n",
        "xlabel('t (sec)',fontsize = 12)\n",
        "suptitle('Torque vs Time',fontsize = 16)\n",
        "show()"
      ]
    },
    {
      "cell_type": "code",
      "execution_count": 47,
      "metadata": {},
      "outputs": [],
      "source": [
        "import matplotlib.pyplot as plt\n",
        "\n",
        "lab = ['$T_l$', '$T_r$', '$T_m$', '$T_{a_{1}}$', '$T_{a_{2}}$']\n",
        "\n",
        "plt.close()\n",
        "\n",
        "fig, axs = plt.subplots(5, 1, sharex=True)\n",
        "\n",
        "for i in range(5):\n",
        "    axs[i].plot(t_, U[:, i], 'b', linewidth=lw)\n",
        "    axs[i].set_ylabel(lab[i] + ' (N.m)', fontsize=12)\n",
        "    axs[i].tick_params(axis='both', labelsize=12)\n",
        "\n",
        "plt.xlabel('t (sec)', fontsize=12)\n",
        "fig.suptitle('Torque vs Time', fontsize=16, y=0.95)\n",
        "\n",
        "plt.subplots_adjust(hspace=0.5, wspace=None)\n",
        "\n",
        "plt.show()\n"
      ]
    },
    {
      "cell_type": "markdown",
      "metadata": {},
      "source": [
        "### CARTESIAN TREJECTORY"
      ]
    },
    {
      "cell_type": "code",
      "execution_count": 48,
      "metadata": {},
      "outputs": [
        {
          "data": {
            "text/plain": [
              "[<matplotlib.lines.Line2D at 0x20de17870d0>]"
            ]
          },
          "execution_count": 48,
          "metadata": {},
          "output_type": "execute_result"
        }
      ],
      "source": [
        "X=[]; Y=[]\n",
        "v = np.append([0],np.diff(sol[:,0]))\n",
        "phi = sol[:,1]\n",
        "xc=0; yc=0\n",
        "for i in range(len(t_)):\n",
        "    xc = xc + v[i] * np.cos(phi[i])\n",
        "    yc = yc + v[i] * np.sin(phi[i]) \n",
        "    X.append(xc); Y.append(yc)\n",
        "plot(X,Y)"
      ]
    },
    {
      "cell_type": "code",
      "execution_count": 49,
      "metadata": {},
      "outputs": [],
      "source": [
        "X=np.array(X)\n",
        "Y=np.array(Y)"
      ]
    },
    {
      "cell_type": "code",
      "execution_count": 50,
      "metadata": {},
      "outputs": [],
      "source": [
        "close(0)\n",
        "tc = np.linspace(0,10,1000)\n",
        "plot(X,Y,'r')\n",
        "plot(3*np.cos(2*np.pi*tc),3*np.sin(2*np.pi*tc)+3,'g')\n",
        "axis('equal')\n",
        "ylabel('y(m)',fontsize = 12)\n",
        "xlabel('x(m)',fontsize =12)\n",
        "legend(['Actual','Reference'],fontsize =12)\n",
        "xlim([-5,4])\n",
        "tick_params(axis='both', labelsize=12)\n",
        "plot([0],[0],'bo',markersize =15,)\n",
        "show()"
      ]
    },
    {
      "cell_type": "code",
      "execution_count": 51,
      "metadata": {},
      "outputs": [
        {
          "data": {
            "text/plain": [
              "[<matplotlib.lines.Line2D at 0x20de55576d0>]"
            ]
          },
          "execution_count": 51,
          "metadata": {},
          "output_type": "execute_result"
        }
      ],
      "source": [
        "plot(t_,U[:,0],'r')\n",
        "plot(t_,U[:,1],'g')\n",
        "# ylim([-0.1,0.1])"
      ]
    }
  ],
  "metadata": {
    "accelerator": "GPU",
    "colab": {
      "gpuType": "T4",
      "provenance": []
    },
    "gpuClass": "standard",
    "kernelspec": {
      "display_name": "Python 3",
      "name": "python3"
    },
    "language_info": {
      "codemirror_mode": {
        "name": "ipython",
        "version": 3
      },
      "file_extension": ".py",
      "mimetype": "text/x-python",
      "name": "python",
      "nbconvert_exporter": "python",
      "pygments_lexer": "ipython3",
      "version": "3.11.1"
    }
  },
  "nbformat": 4,
  "nbformat_minor": 0
}
