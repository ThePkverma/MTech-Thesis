{
  "cells": [
    {
      "cell_type": "code",
      "execution_count": 1,
      "metadata": {
        "id": "hftQ-cOyRNyo"
      },
      "outputs": [],
      "source": [
        "from sympy.physics.vector import Point,ReferenceFrame as rf\n",
        "from sympy.physics.mechanics import  inertia, RigidBody, Lagrangian, LagrangesMethod, Particle, angular_momentum\n",
        "from sympy.physics.mechanics import KanesMethod, Dyadic\n",
        "from sympy.physics.vector import dynamicsymbols\n",
        "from sympy import Matrix, symbols, simplify,diff, solve\n",
        "from sympy.physics.vector import init_vprinting\n",
        "init_vprinting(pretty_print=True)\n",
        "import sympy as sp\n",
        "from sympy import lambdify\n",
        "import matplotlib.pyplot as plt\n",
        "from matplotlib.pyplot import *\n",
        "from matplotlib.patches import Rectangle\n",
        "import os\n",
        "import time\n",
        "import control as ct\n",
        "from control import lqr\n",
        "import numpy as np\n",
        "from numpy import linalg as la\n",
        "from numpy import rad2deg, deg2rad\n",
        "from numpy.linalg import inv,pinv\n",
        "import scipy\n",
        "from scipy.integrate import odeint\n",
        "from scipy.optimize import minimize\n",
        "import math as m\n",
        "from scipy.interpolate import CubicSpline\n",
        "from scipy.interpolate import BSpline\n",
        "from itertools import islice\n",
        "from numpy.linalg import inv \n",
        "Mc,lc,Ix,Iy,Iz,Ixz,K,J = symbols('M_c,l_c,I_x,I_y,I_z,I_xz,K,J')\n",
        "q1,q4, ql,qb,phi = dynamicsymbols(' q1 q4 ql q_b phi')\n",
        "qa1, qa2 = dynamicsymbols('qa1,qa2')\n",
        "qr, ql,x,y,z = dynamicsymbols('q_r,q_l,x,y,z')\n",
        "bt = symbols('beta')\n",
        "l12, l13 , l34, l25, l24,l01= symbols(\"l12 l13 l34 l25 l24 l01\")\n",
        "r ,g, d,kt,t = symbols(\"r g d kt t\")\n",
        "la1, la2,lm1,lm2,lm3,lm4 = symbols('la1 la2 lm1 lm2 lm3,lm4')\n",
        "mb, m1,m2,m3,m4,mw, ma1, ma2, mext = symbols('mb m1 m2 m3 m4 mw ma1 ma2 mext')\n",
        "Tl,Tr = symbols('Tl Tr')\n",
        "phi, th = dynamicsymbols('phi,theta')\n",
        "Tw,Tm,Ta1,Ta2 = symbols('Tw,Tm,Ta1,Ta2')\n",
        "xc,yc,phi,x = dynamicsymbols('xc yc phi x')\n",
        "values = {\n",
        "            mw:0.268, m1: 0.127, m2 : 0.105, m3:0.103, mb: 1.512, ma1:0.092526,ma2:0.109,\n",
        "            l01: 0.190, l12: 0.050, l24:0.193, l13: 0.188, l34:0.093, la1:0.20, la2:0.20,\n",
        "            r:0.070, g:9.81, d:0.210, bt: np.deg2rad(46.1),\n",
        "            Mc: 2.919\n",
        "}\n",
        "vvalues = {kt :0.85}"
      ]
    },
    {
      "cell_type": "code",
      "execution_count": 2,
      "metadata": {
        "id": "Bx3kPaXYYg9Z"
      },
      "outputs": [],
      "source": [
        "def vectomat(vector,N,s=0):\n",
        "    if s==0:\n",
        "        return simplify( Matrix([vector.dot(N.x), vector.dot(N.y), vector.dot(N.z)]))\n",
        "    else:\n",
        "        return  Matrix([vector.dot(N.x), vector.dot(N.y), vector.dot(N.z)])\n",
        "def rtang(alpha):\n",
        "    if alpha>0:\n",
        "        alpha = alpha\n",
        "    else:\n",
        "        alpha = alpha+np.pi\n",
        "    return alpha   \n",
        "\n",
        "def fourbar(t3):\n",
        "    tm = t3-np.pi+values[bt]\n",
        "    l = values[l13]; h =values[l34]\n",
        "    g = values[l24]; f = values[l12]\n",
        "    ln = np.sqrt(l**2+h**2-2*l*h*m.cos(tm))\n",
        "    alpha = m.acos((g**2+f**2-ln**2)/(2*g*f))\n",
        "    alpha = rtang(alpha)\n",
        "    gamma = m.acos( ( h**2+  ln**2-  l**2)/(2*h*ln) )+\\\n",
        "            m.acos( ( g**2 + ln**2 - f**2)/(2*g*ln) )\n",
        "    \n",
        "    gamma = rtang(gamma)\n",
        "    lembda = 2*np.pi- (gamma + alpha + tm)\n",
        "    #                   q2        q3      q4\n",
        "    return np.array([np.pi-alpha, lembda, t3])\n",
        "def spround(exp,n=3):\n",
        "    exp =exp.expand()\n",
        "    for a in sp.preorder_traversal(exp):\n",
        "        if isinstance(a, sp.Float):\n",
        "            exp = exp.subs(a, round(a, n))\n",
        "    return exp"
      ]
    },
    {
      "cell_type": "code",
      "execution_count": 3,
      "metadata": {
        "colab": {
          "base_uri": "https://localhost:8080/",
          "height": 39
        },
        "id": "YQWFD7u2czZQ",
        "outputId": "d84c0f3a-50bc-4d50-d6d3-f9f3acc33b5c"
      },
      "outputs": [
        {
          "data": {
            "image/png": "[encoded data removed]",
            "text/latex": [
              "$\\displaystyle q_{2}{\\left(q_{4} \\right)}$"
            ],
            "text/plain": [
              "q₂(q₄)"
            ]
          },
          "execution_count": 3,
          "metadata": {},
          "output_type": "execute_result"
        }
      ],
      "source": [
        "q3 = sp.Function('q3')(q4)\n",
        "q2 = sp.Function('q2')(q4)\n",
        "q2"
      ]
    },
    {
      "cell_type": "code",
      "execution_count": 4,
      "metadata": {
        "id": "VBmPLV5Ie-om"
      },
      "outputs": [],
      "source": [
        "q=Matrix([xc,yc,phi,ql,qr,q1,q4,qa1,qa2])\n",
        "qdot = q.diff()\n",
        "lq = len(q)"
      ]
    },
    {
      "cell_type": "code",
      "execution_count": 5,
      "metadata": {
        "id": "-9MQSJSbetnB"
      },
      "outputs": [],
      "source": [
        "N = rf('N')\n",
        "C = N.orientnew('C','Axis',[phi,N.z])\n",
        "Lw = C.orientnew('Lw','Axis',[ql,-C.y])\n",
        "Rw = C.orientnew('Rw','Axis',[qr,-C.y])\n",
        "L1 = C.orientnew('L1','Axis',[q1,-C.y])\n",
        "L2 = L1.orientnew('L2','Axis',[q2,-L1.y])\n",
        "L3 = L1.orientnew('L3','Axis',[q3,-L1.y])\n",
        "B = L3.orientnew('B','Axis', [q4,-L3.y])\n",
        "L4 = B.orientnew('L4','Axis',[bt,-B.y])\n",
        "A1 = B.orientnew('A1','Axis',[qa1,-B.y])\n",
        "A2 = A1.orientnew('A2','Axis',[qa2,-A1.y])"
      ]
    },
    {
      "cell_type": "code",
      "execution_count": 6,
      "metadata": {
        "id": "jWoeaGX4Y2fN"
      },
      "outputs": [],
      "source": [
        "G = Point('G')\n",
        "G.set_vel(N,0)\n",
        "Cb = G.locatenew('Cb',xc*N.x+yc*N.y+r*N.z)\n",
        "p0 = Cb.locatenew('p0',  d/2*C.y)\n",
        "pc1 = p0.locatenew('pc1',-r*N.z)\n",
        "p1 = p0.locatenew('p1',l01*L1.x)\n",
        "p2 = p1.locatenew('p2',l12*L1.x)\n",
        "p3 = p1.locatenew('p3',l13*L3.x)\n",
        "p34 = p3.locatenew('p34',l34*L4.x)\n",
        "p24 = p2.locatenew('p24',l24*L2.x)\n",
        "\n",
        "p01 = Cb.locatenew('p01',-d/2*C.y)\n",
        "pc2 = p01.locatenew('pc2',-r*N.z)\n",
        "p11 = p01.locatenew('p11',l01*L1.x)\n",
        "p21 = p11.locatenew('p21',l12*L1.x)\n",
        "p31 = p11.locatenew('p31',l13*L3.x)\n",
        "p341 = p31.locatenew('p341',l34*L4.x)\n",
        "p241 = p21.locatenew('p241',l24*L2.x)\n",
        "\n",
        "pb = p3.locatenew('pb',-6.501/1000*B.x+147/1000*B.z-d/2*B.y)\n",
        "pa1 =pb.locatenew('pa1',la1*A1.x)\n",
        "pa2 =pa1.locatenew('pa2',la2*A2.x)\n",
        "\n",
        "rec_cen = pb.locatenew('rec',-0.186/2*B.x\\\n",
        "                       -0.186*B.z\n",
        "                       )"
      ]
    },
    {
      "cell_type": "code",
      "execution_count": 7,
      "metadata": {
        "id": "Q3VlejfSbpij"
      },
      "outputs": [],
      "source": [
        "c1 = p0.locatenew('c1',0.130055*L1.x)\n",
        "c2 = p2.locatenew('c2',0.102766*L2.x)\n",
        "c3 = p1.locatenew('c3',0.097766*L3.x)\n",
        "\n",
        "c11 = p01.locatenew('c1',0.130055*L1.x)\n",
        "c21 = p21.locatenew('c2',0.102766*L2.x)\n",
        "c31 = p11.locatenew('c3',0.097766*L3.x)\n",
        "\n",
        "cb = pb.locatenew('cb',-0.017192*B.x-0.085*B.z)\n",
        "ca1 = pb.locatenew(\"ca1\",0.080669*A1.x)\n",
        "ca2 = pa1.locatenew(\"ca2\",0.103429*A2.x)"
      ]
    },
    {
      "cell_type": "code",
      "execution_count": 8,
      "metadata": {
        "colab": {
          "base_uri": "https://localhost:8080/",
          "height": 38
        },
        "id": "RM-w3I5adYuU",
        "outputId": "c68f572a-bffe-4eff-d377-43e46b99c16f"
      },
      "outputs": [
        {
          "data": {
            "image/png": "[encoded data removed]",
            "text/latex": [
              "$\\displaystyle \\left[\\begin{matrix}xc & yc & \\phi & q_{l} & q_{r} & q_{1} & q_{4} & qa_{1} & qa_{2}\\end{matrix}\\right]$"
            ],
            "text/plain": [
              "[xc  yc  φ  qₗ  qᵣ  q₁  q₄  qa₁  qa₂]"
            ]
          },
          "execution_count": 8,
          "metadata": {},
          "output_type": "execute_result"
        }
      ],
      "source": [
        "q.T"
      ]
    },
    {
      "cell_type": "code",
      "execution_count": 9,
      "metadata": {
        "id": "2ukhXH6VbO18"
      },
      "outputs": [],
      "source": [
        "## coordinates \n",
        "qinput = Matrix([xc,yc,phi,q1,q2,q3,q4,qa1,qa2])\n",
        "\n",
        "points = [p0,p1,p2,p24,p3,p34,pb,pa1,pa2,rec_cen]\n",
        "robocord = []\n",
        "for pnt in points:\n",
        "    robocord.append(vectomat(pnt.pos_from(G),N,1).T)\n",
        "\n",
        "robocord= Matrix(robocord).T\n",
        "robocord.row_del(1)\n",
        "robopoints = lambdify(qinput,robocord.subs(values),modules='numpy')\n",
        "\n",
        "cpoints = [c1,c2,c3,cb,ca1,ca2]\n",
        "robocom = []\n",
        "for pnt in cpoints:\n",
        "    robocom.append(vectomat(pnt.pos_from(G),N,1).T)\n",
        "robocom= Matrix(robocom).T\n",
        "robocom.row_del(1)\n",
        "robocpoints = lambdify(qinput,robocom.subs(values),modules='numpy')"
      ]
    },
    {
      "cell_type": "code",
      "execution_count": 10,
      "metadata": {
        "id": "Ofcu3YK-bbQr"
      },
      "outputs": [],
      "source": [
        "def plotline(q):\n",
        "    fig, ax = plt.subplots()\n",
        "    points = robopoints(*q)\n",
        "    pnts1 = points[:,:4]\n",
        "    pnts2 = np.hstack((points[:,1:2],points[:,4:6]))\n",
        "    pnts3 = points[:,6:-1]\n",
        "    ax.plot(pnts1[0,:],pnts1[1,:],color='r')\n",
        "    ax.plot(pnts2[0,:],pnts2[1,:],color='b')\n",
        "    ax.plot(pnts3[0,:],pnts3[1,:],color='g')\n",
        "    circle = plt.Circle((pnts1[0,0],pnts1[1,0]),0.07)\n",
        "    squre = Rectangle((points[0,9],points[1,9]),0.186,0.186,angle = rad2deg(q[3]+q[5]+q[6]))\n",
        "    ax.add_patch(squre)\n",
        "    ax.add_artist(circle)\n",
        "    plot([-0.25,0.6],[0,0],'k')\n",
        "    ax.set_xlim([-0.3,0.8])\n",
        "    ax.set_ylim([-0.3,0.8])\n",
        "    axis('equal')\n",
        "    return fig, ax\n",
        "def plotcom(q):\n",
        "    points = robocpoints(*qinput)\n",
        "    plot(points[0,:],points[1,:],'ko')"
      ]
    },
    {
      "cell_type": "code",
      "execution_count": 11,
      "metadata": {
        "id": "REDBF_Tjbfni"
      },
      "outputs": [],
      "source": [
        "def com():\n",
        "    cn = [c1,c2,c3,cb,ca1,ca2,c11,c21,c31]\n",
        "    mn = [m1,m2,m3,mb,ma1,ma2,m1,m2,m3]\n",
        "    cm = Matrix([[0,0,0]]).T\n",
        "    for i in range(len(cn)):\n",
        "        cm += vectomat(cn[i].pos_from(G),N,1)*mn[i]\n",
        "    return (cm/sum(mn)).subs(values)\n",
        "com_N = lambdify(qinput,com(),modules='numpy')"
      ]
    },
    {
      "cell_type": "code",
      "execution_count": 12,
      "metadata": {
        "colab": {
          "base_uri": "https://localhost:8080/",
          "height": 88
        },
        "id": "kkzdvi8jnHhR",
        "outputId": "c16a7ee5-4505-4769-9f3a-1295f65691cb"
      },
      "outputs": [
        {
          "data": {
            "image/png": "[encoded data removed]",
            "text/latex": [
              "$\\displaystyle \\left[\\begin{matrix}\\frac{r \\cos{\\left(\\phi \\right)} \\dot{q}_{l}}{2} + \\frac{r \\cos{\\left(\\phi \\right)} \\dot{q}_{r}}{2} + \\dot{xc}\\\\\\frac{r \\sin{\\left(\\phi \\right)} \\dot{q}_{l}}{2} + \\frac{r \\sin{\\left(\\phi \\right)} \\dot{q}_{r}}{2} + \\dot{yc}\\\\\\dot{\\phi} - \\frac{r \\dot{q}_{l}}{d} + \\frac{r \\dot{q}_{r}}{d}\\end{matrix}\\right]$"
            ],
            "text/plain": [
              "⎡r⋅cos(φ)⋅qₗ̇   r⋅cos(φ)⋅qᵣ̇     ⎤\n",
              "⎢─────────── + ─────────── + xċ⎥\n",
              "⎢     2             2          ⎥\n",
              "⎢                              ⎥\n",
              "⎢r⋅sin(φ)⋅qₗ̇   r⋅sin(φ)⋅qᵣ̇     ⎥\n",
              "⎢─────────── + ─────────── + yċ⎥\n",
              "⎢     2             2          ⎥\n",
              "⎢                              ⎥\n",
              "⎢           r⋅qₗ̇   r⋅qᵣ̇        ⎥\n",
              "⎢       φ̇ - ──── + ────        ⎥\n",
              "⎣            d      d          ⎦"
            ]
          },
          "execution_count": 12,
          "metadata": {},
          "output_type": "execute_result"
        }
      ],
      "source": [
        "Vb = Cb.set_vel(N,diff(xc)*N.x+diff(yc)*N.y)\n",
        "p0.v2pt_theory( Cb, N,C)\n",
        "p01.v2pt_theory(Cb,N,C)\n",
        "\n",
        "vc1 = pc1.v2pt_theory(p0, N,Lw)\n",
        "vc2 = pc2.v2pt_theory(p01,N,Rw)\n",
        "nonhol = Matrix.vstack(vectomat(vc1,N)[:2,:],vectomat(vc2,N)[:2,:])\n",
        "sol = solve(nonhol[:3,:],[diff(xc),diff(yc),diff(phi)])\n",
        "nonhol = (Matrix(list(sol.keys())) - Matrix(list(sol.values()))).jacobian(qdot)@qdot\n",
        "nonhol"
      ]
    },
    {
      "cell_type": "code",
      "execution_count": 13,
      "metadata": {
        "colab": {
          "base_uri": "https://localhost:8080/",
          "height": 58
        },
        "id": "cdCqitbArBHw",
        "outputId": "aa88e5d9-5079-49d3-9f48-b325a073156b"
      },
      "outputs": [
        {
          "data": {
            "image/png": "[encoded data removed]",
            "text/latex": [
              "$\\displaystyle \\left[\\begin{matrix}- x + \\sin{\\left(\\phi \\right)} \\dot{yc} + \\cos{\\left(\\phi \\right)} \\dot{xc}\\\\- \\sin{\\left(\\phi \\right)} \\dot{xc} + \\cos{\\left(\\phi \\right)} \\dot{yc}\\end{matrix}\\right]$"
            ],
            "text/plain": [
              "⎡-x + sin(φ)⋅yċ + cos(φ)⋅xċ⎤\n",
              "⎢                          ⎥\n",
              "⎣  -sin(φ)⋅xċ + cos(φ)⋅yċ  ⎦"
            ]
          },
          "execution_count": 13,
          "metadata": {},
          "output_type": "execute_result"
        }
      ],
      "source": [
        "eq= vectomat(Cb.vel(N),C)[:2,:]- Matrix([x,0])\n",
        "eq"
      ]
    },
    {
      "cell_type": "code",
      "execution_count": 14,
      "metadata": {
        "id": "elzPY8c0b8NO"
      },
      "outputs": [],
      "source": [
        "Iw1 = inertia(Lw, 3.440*1e-04, 6.600*1e-03, 3.440*1e-04)\n",
        "I24 = inertia(L2, 4401.69*1e-9, 3.489*1e-4, 3.463*1e-4) \n",
        "I02 = inertia(L1, 5301.652*1e-9, 6.561*1e-4, 6.530*1e-4) \n",
        "I13 = inertia(L3, 4289.19*1e-9, 3.233*1e-4, 3.208*1e-4) \n",
        "IB =  inertia(B,  1.584*1e-2, 1.357*1e-2, 1.285*1e-2,-80491.519*1e-9,0,0) \n",
        "Ia1 = inertia(A1,3822.08*1e-9, 2.383*1e-4, 2.359*1e-4) \n",
        "Ia2 = inertia(A2, 4592.809*1e-9, 3.906*1e-4, 3.879*1e-4) "
      ]
    },
    {
      "cell_type": "code",
      "execution_count": 15,
      "metadata": {
        "id": "cDpz0CqCb_1l"
      },
      "outputs": [],
      "source": [
        "gravity = -g*N.z"
      ]
    },
    {
      "cell_type": "code",
      "execution_count": 16,
      "metadata": {
        "id": "4knBP0WPcCgl"
      },
      "outputs": [],
      "source": [
        "link1= RigidBody('link1', c1, L1, m1, (I02, c1))\n",
        "link2= RigidBody('link2', c2, L2, m2, (I24, c2))\n",
        "link3= RigidBody('link3', c3, L3, m3, (I13, c3))\n",
        "\n",
        "link11= RigidBody('link11', c11, L1, m1, (I02, c11))\n",
        "link21= RigidBody('link21', c21, L2, m2, (I24, c21))\n",
        "link31= RigidBody('link31', c31, L3, m3, (I13, c31))\n",
        "\n",
        "arm1 = RigidBody('arm1', ca1, A1, ma1, (Ia1, ca1))\n",
        "arm2 = RigidBody('arm2', ca2, A2, ma2, (Ia2, ca2))\n",
        "base = RigidBody('Base', cb, B, mb, (IB, cb))\n",
        "wheel_l= RigidBody('wheel_1', p0, Lw, mw, (Iw1, p0))\n",
        "wheel_r= RigidBody('wheel_1', p01, Rw, mw, (Iw1, p01))\n",
        "spring1 = Particle('spring1', p1, 0)\n",
        "spring2 = Particle('spring1', p11, 0)\n",
        "\n",
        "# Potenial Energy of Rigid Bodies\n",
        "\n",
        "wheel_l.potential_energy = -mw*gravity.dot(p0.pos_from(G))\n",
        "wheel_r.potential_energy = -mw*gravity.dot(p01.pos_from(G))\n",
        "\n",
        "link1.potential_energy = -m1*gravity.dot(c1.pos_from(G))\n",
        "link2.potential_energy = -m2*gravity.dot(c2.pos_from(G))\n",
        "link3.potential_energy = -m3*gravity.dot(c3.pos_from(G))\n",
        "\n",
        "link11.potential_energy = -m1*gravity.dot(c11.pos_from(G))\n",
        "link21.potential_energy = -m2*gravity.dot(c21.pos_from(G))\n",
        "link31.potential_energy = -m3*gravity.dot(c31.pos_from(G))\n",
        "\n",
        "arm1.potential_energy = -ma1*gravity.dot(ca1.pos_from(G))\n",
        "arm2.potential_energy = -ma2*gravity.dot(ca2.pos_from(G))\n",
        "base.potential_energy = -mb*gravity.dot(cb.pos_from(G))\n",
        "\n",
        "spring1.potential_energy = 1/2*kt*(q3)**2\n",
        "spring2.potential_energy = 1/2*kt*(q3)**2"
      ]
    },
    {
      "cell_type": "code",
      "execution_count": 17,
      "metadata": {
        "colab": {
          "base_uri": "https://localhost:8080/"
        },
        "id": "J-DpCjXih3wX",
        "outputId": "6152471c-322d-41e4-99dd-51e771e4863d"
      },
      "outputs": [
        {
          "name": "stderr",
          "output_type": "stream",
          "text": [
            "c:\\Users\\itisa\\AppData\\Local\\Programs\\Python\\Python311\\Lib\\site-packages\\sympy\\physics\\vector\\point.py:574: UserWarning: Velocity automatically calculated based on point p0 but it is also possible from points(s):[c2]. Velocities from these points are not necessarily the same. This may cause errors in your calculations.\n",
            "  warn('Velocity automatically calculated based on point ' +\n",
            "c:\\Users\\itisa\\AppData\\Local\\Programs\\Python\\Python311\\Lib\\site-packages\\sympy\\physics\\vector\\point.py:574: UserWarning: Velocity automatically calculated based on point p01 but it is also possible from points(s):[c2]. Velocities from these points are not necessarily the same. This may cause errors in your calculations.\n",
            "  warn('Velocity automatically calculated based on point ' +\n",
            "c:\\Users\\itisa\\AppData\\Local\\Programs\\Python\\Python311\\Lib\\site-packages\\sympy\\physics\\vector\\point.py:574: UserWarning: Velocity automatically calculated based on point p0 but it is also possible from points(s):[c3, c2]. Velocities from these points are not necessarily the same. This may cause errors in your calculations.\n",
            "  warn('Velocity automatically calculated based on point ' +\n",
            "c:\\Users\\itisa\\AppData\\Local\\Programs\\Python\\Python311\\Lib\\site-packages\\sympy\\physics\\vector\\point.py:574: UserWarning: Velocity automatically calculated based on point ca1 but it is also possible from points(s):[p0, c3, c2]. Velocities from these points are not necessarily the same. This may cause errors in your calculations.\n",
            "  warn('Velocity automatically calculated based on point ' +\n",
            "c:\\Users\\itisa\\AppData\\Local\\Programs\\Python\\Python311\\Lib\\site-packages\\sympy\\physics\\vector\\point.py:574: UserWarning: Velocity automatically calculated based on point ca1 but it is also possible from points(s):[ca2, p0, c3, c2]. Velocities from these points are not necessarily the same. This may cause errors in your calculations.\n",
            "  warn('Velocity automatically calculated based on point ' +\n",
            "c:\\Users\\itisa\\AppData\\Local\\Programs\\Python\\Python311\\Lib\\site-packages\\sympy\\physics\\vector\\point.py:574: UserWarning: Velocity automatically calculated based on point p0 but it is also possible from points(s):[c3, c2, cb, ca1, ca2]. Velocities from these points are not necessarily the same. This may cause errors in your calculations.\n",
            "  warn('Velocity automatically calculated based on point ' +\n",
            "c:\\Users\\itisa\\AppData\\Local\\Programs\\Python\\Python311\\Lib\\site-packages\\sympy\\physics\\vector\\point.py:574: UserWarning: Velocity automatically calculated based on point p01 but it is also possible from points(s):[c3, c2]. Velocities from these points are not necessarily the same. This may cause errors in your calculations.\n",
            "  warn('Velocity automatically calculated based on point ' +\n"
          ]
        }
      ],
      "source": [
        "## EOM\n",
        "lag = Lagrangian(N,link1,link2,link3,\n",
        "                   link11,link21,link31,\n",
        "                   arm1,arm2,\n",
        "                   wheel_l,wheel_r,\n",
        "                   base,\n",
        "                   spring1,spring2)\n",
        "LM= LagrangesMethod(lag,q,nonhol_coneqs=nonhol,frame=N)\n",
        "eom= LM.form_lagranges_equations()"
      ]
    },
    {
      "cell_type": "code",
      "execution_count": 18,
      "metadata": {
        "id": "LbSOXWUotAh8"
      },
      "outputs": [],
      "source": [
        "msai = LM.mass_matrix\n",
        "Mq= msai[:,:lq]\n",
        "Cq = (-LM.forcing)\n",
        "sai = msai[:,lq:].T\n",
        "said = diff(sai,t)"
      ]
    },
    {
      "cell_type": "code",
      "execution_count": 19,
      "metadata": {
        "colab": {
          "base_uri": "https://localhost:8080/",
          "height": 226
        },
        "id": "cDntQ8lLwo2I",
        "outputId": "3f2c25af-fdb0-4fd0-9082-6612cb8aa7ce"
      },
      "outputs": [
        {
          "data": {
            "image/png": "[encoded data removed]",
            "text/latex": [
              "$\\displaystyle \\left[\\begin{matrix}- lm_{1}\\\\- lm_{2}\\\\- lm_{3}\\\\- \\frac{lm_{1} r \\cos{\\left(\\phi \\right)}}{2} - \\frac{lm_{2} r \\sin{\\left(\\phi \\right)}}{2} + \\frac{lm_{3} r}{d}\\\\- \\frac{lm_{1} r \\cos{\\left(\\phi \\right)}}{2} - \\frac{lm_{2} r \\sin{\\left(\\phi \\right)}}{2} - \\frac{lm_{3} r}{d}\\\\0\\\\0\\\\0\\\\0\\end{matrix}\\right]$"
            ],
            "text/plain": [
              "⎡                -lm₁                 ⎤\n",
              "⎢                                     ⎥\n",
              "⎢                -lm₂                 ⎥\n",
              "⎢                                     ⎥\n",
              "⎢                -lm₃                 ⎥\n",
              "⎢                                     ⎥\n",
              "⎢  lm₁⋅r⋅cos(φ)   lm₂⋅r⋅sin(φ)   lm₃⋅r⎥\n",
              "⎢- ──────────── - ──────────── + ─────⎥\n",
              "⎢       2              2           d  ⎥\n",
              "⎢                                     ⎥\n",
              "⎢  lm₁⋅r⋅cos(φ)   lm₂⋅r⋅sin(φ)   lm₃⋅r⎥\n",
              "⎢- ──────────── - ──────────── - ─────⎥\n",
              "⎢       2              2           d  ⎥\n",
              "⎢                                     ⎥\n",
              "⎢                  0                  ⎥\n",
              "⎢                                     ⎥\n",
              "⎢                  0                  ⎥\n",
              "⎢                                     ⎥\n",
              "⎢                  0                  ⎥\n",
              "⎢                                     ⎥\n",
              "⎣                  0                  ⎦"
            ]
          },
          "execution_count": 19,
          "metadata": {},
          "output_type": "execute_result"
        }
      ],
      "source": [
        "lm = Matrix([lm1,lm2,lm3])\n",
        "sai.T@lm"
      ]
    },
    {
      "cell_type": "code",
      "execution_count": 20,
      "metadata": {
        "id": "UuK307fqyNlG"
      },
      "outputs": [],
      "source": [
        "solm = dict( zip( [lm1,lm2,lm3], -( Mq@diff(q,t,2))[:3,:] - Cq[:3,:]   ))\n",
        "solx = { diff(xc) : diff(x)*sp.cos(phi), diff(xc,t,2):diff(sp.cos(phi)*diff(x)),\n",
        "         diff(yc) : diff(x)*sp.sin(phi), diff(yc,t,2):diff(sp.sin(phi)*diff(x)) }\n",
        "solw = solve(nonhol.subs(solx),diff(Matrix([yc,ql,qr]),t,1))\n",
        "sola = solve(diff(nonhol,t),diff(Matrix([yc,ql,qr]),t,2))\n",
        "solqlr = {sp.sin(ql):0,sp.sin(qr):0,sp.cos(ql):0,sp.cos(qr):0}"
      ]
    },
    {
      "cell_type": "code",
      "execution_count": 21,
      "metadata": {
        "id": "uwC_ifT72gRl"
      },
      "outputs": [],
      "source": [
        "# lms = Matrix(list(solm.values()))\n",
        "Iforce = (Mq@diff(q,t,2) + Cq)\n",
        "holConstForces = sai.T@lm\n",
        "# eom = (Iforce - holConstForces)[3:,:].subs(solm).subs(sola).subs(solw).subs(solx).subs(solqlr).subs(values)\n",
        "eom = (Iforce - holConstForces)[3:,:].subs(solm).subs(sola).subs(solw).subs(solx).subs(solqlr)"
      ]
    },
    {
      "cell_type": "code",
      "execution_count": 22,
      "metadata": {
        "id": "60rrXTnZ9rEG"
      },
      "outputs": [],
      "source": [
        "qind = Matrix([x,phi,q1,q4,qa1,qa2])\n",
        "Mqs  = sp.zeros(6,6)\n",
        "for i in range(6):\n",
        "    for j in range(6):\n",
        "        Mqs[i,j] = diff(eom[i],diff(qind,t,2)[j])\n",
        "Mqs = Mqs.subs(values)\n",
        "Cqs= eom.subs(dict( zip( diff(qind,t,2), sp.zeros(len(qind),1))) )\n",
        "Gs = Cqs.subs(dict( zip( diff(qind,t), sp.zeros(len(qind),1))) )"
      ]
    },
    {
      "cell_type": "code",
      "execution_count": 55,
      "metadata": {
        "id": "SeHydvnL-XKY"
      },
      "outputs": [],
      "source": [
        "us = Matrix([Tl,Tr,-Tl-Tr,2*Tm,Ta1,Ta2])\n",
        "usfun = sp.lambdify([Tl,Tr,Tm,Ta1,Ta2],us,modules = 'numpy')"
      ]
    },
    {
      "cell_type": "code",
      "execution_count": 164,
      "metadata": {
        "id": "9QCAak1LHU-h"
      },
      "outputs": [],
      "source": [
        "qdep = Matrix([q2,q3,diff(q2,q4), diff(q3,q4),diff(q2,q4,2), diff(q3,q4,2)])\n",
        "qn = Matrix.vstack(qind,qind.diff(),qdep )\n",
        "Mqn = lambdify(qn,Mqs,modules='numpy')\n",
        "cqn = lambdify(qn,Cqs.subs(vvalues),modules='numpy')\n",
        "gn = lambdify(qn,Gs.subs(vvalues),modules='numpy')"
      ]
    },
    {
      "cell_type": "code",
      "execution_count": null,
      "metadata": {
        "id": "Sxx6pbX-yFQu"
      },
      "outputs": [],
      "source": [
        "def Qconv(q): # 3 9\n",
        "    q = np.array(q)\n",
        "    #   x  phi q1 q4 qa1 qa2\n",
        "    qder  = np.array([ f2(q[3]), f3(q[3]), f2(q[3],1), f3(q[3],1), f2(q[3],2), f3(q[3],2)])\n",
        "    return np.append(q,qder)\n",
        "\n",
        "def operatingPoint(q0,q1):\n",
        "    def Constfun(qu):\n",
        "        q = np.append(qu[:5] , np.zeros((6,)))\n",
        "        q = np.insert(q, 2, [q1])\n",
        "        u = qu[5:]\n",
        "        x = Qconv(q)\n",
        "        x2 = -gn(*x) + usfun(*u)\n",
        "        return x2.reshape(-1,)\n",
        "        \n",
        "    def objfun(qu):\n",
        "        u = qu[5:]\n",
        "        return np.linalg.norm(u)\n",
        "    bounds = [(None,None),(None,None),\n",
        "            #   (0.534,1.0276) ,\n",
        "               (3.55840321, 3.99440321),\n",
        "            #   (None,None),(None,None)\n",
        "              (np.pi/3,np.pi-np.pi/3),(None,None)\n",
        "              ] + [(None,None)]*(5)\n",
        "    const = {'type':'eq','fun': Constfun}\n",
        "    sol = minimize(objfun, q0, bounds = bounds, constraints = const )\n",
        "    opoints = np.insert(sol['x'],2,[q1])\n",
        "    print('const',Constfun(sol['x']))\n",
        "    return opoints,sol\n",
        "                          # x phi q4        qa1        qa2           Tw Tr Tm Ta1 Ta2\n",
        "q0 = np.append( np.array([0, 0,   3.900e+00, 2.338e+00,  5.387e-01]), np.zeros((5,)) )\n",
        "qpoint,_ = operatingPoint( q0,q1 = np.pi/4 )\n",
        "rcParams['figure.figsize'] = (6,4)\n",
        "ccc(qpoint)\n",
        "qpoint"
      ]
    },
    {
      "cell_type": "code",
      "execution_count": 168,
      "metadata": {
        "colab": {
          "base_uri": "https://localhost:8080/"
        },
        "id": "62MOt9EzrK2b",
        "outputId": "fee2095a-8088-4e78-cf18-f563a948e615"
      },
      "outputs": [
        {
          "data": {
            "text/plain": [
              "12"
            ]
          },
          "execution_count": 168,
          "metadata": {},
          "output_type": "execute_result"
        }
      ],
      "source": [
        "def fun(x,u):\n",
        "    q  = Qconv(x)\n",
        "    u = usfun(*u)\n",
        "    x2 = x[6:]\n",
        "    f1 = x2\n",
        "    f2 = np.dot( inv(Mqn(*q)), (-cqn(*q) + u ) )\n",
        "    return np.append(f1,f2)\n",
        "\n",
        "def Linearize(fun,x0,u0,eps=1e-08):\n",
        "    A = np.zeros((len(x0),len(x0)))\n",
        "    B = np.zeros((len(x0),len(u0)))\n",
        "    \n",
        "    for i in range(len(x0)):\n",
        "        xn = x0.copy()\n",
        "        xn[i] += eps\n",
        "        A[:,i] = (fun(xn,u0)-fun(x0,u0))/eps\n",
        "    \n",
        "    for i in range(len(u0)):\n",
        "        un = u0.copy()\n",
        "        un[i] += eps\n",
        "        B[:,i] = (fun(x0,un)-fun(x0,u0))/eps\n",
        "    return A,B\n",
        "x0 = np.append(qpoint[:6],np.zeros((6,)))\n",
        "u0 = qpoint[6:]\n",
        "A,B = Linearize(fun,x0,u0)\n",
        "np.linalg.matrix_rank(ct.ctrb(A,B))"
      ]
    }
  ],
  "metadata": {
    "accelerator": "GPU",
    "colab": {
      "gpuType": "T4",
      "provenance": []
    },
    "gpuClass": "standard",
    "kernelspec": {
      "display_name": "Python 3",
      "name": "python3"
    },
    "language_info": {
      "codemirror_mode": {
        "name": "ipython",
        "version": 3
      },
      "file_extension": ".py",
      "mimetype": "text/x-python",
      "name": "python",
      "nbconvert_exporter": "python",
      "pygments_lexer": "ipython3",
      "version": "3.11.3"
    }
  },
  "nbformat": 4,
  "nbformat_minor": 0
}
